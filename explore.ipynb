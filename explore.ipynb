{
 "cells": [
  {
   "cell_type": "code",
   "execution_count": 4,
   "id": "initial_id",
   "metadata": {
    "collapsed": true,
    "ExecuteTime": {
     "end_time": "2024-02-01T10:50:27.222428468Z",
     "start_time": "2024-02-01T10:50:27.216052929Z"
    }
   },
   "outputs": [],
   "source": [
    "import pandas as pd\n",
    "import os"
   ]
  },
  {
   "cell_type": "code",
   "execution_count": null,
   "outputs": [],
   "source": [],
   "metadata": {
    "collapsed": false
   },
   "id": "6760a5a56a4a9f3d"
  },
  {
   "cell_type": "code",
   "execution_count": 6,
   "outputs": [
    {
     "data": {
      "text/plain": "['alpaca-13b.jsonl',\n 'rwkv-4-raven-14b.jsonl',\n 'wizardlm-30b.jsonl',\n 'palm-2-chat-bison-001.jsonl',\n 'vicuna-33b-v1.3.jsonl',\n 'tulu-30b.jsonl',\n 'noor.jsonl',\n 'chatglm-6b.jsonl',\n 'mpt-30b-chat.jsonl',\n 'guanaco-65b.jsonl',\n 'mpt-7b-chat.jsonl',\n 'gpt-4.jsonl',\n 'falcon-7b-005.jsonl',\n 'llama-13b.jsonl',\n 'wizardlm-13b.jsonl',\n 'dolly-v2-12b.jsonl',\n 'h2ogpt-oasst-open-llama-13b.jsonl',\n 'vicuna-7b-v1.3.jsonl',\n 'nous-hermes-13b.jsonl',\n 'fastchat-t5-3b.jsonl',\n 'gpt4all-13b-snoozy.jsonl',\n 'koala-13b.jsonl',\n 'baize-v2-13b.jsonl',\n 'claude-instant-v1.jsonl',\n 'mpt-30b-instruct.jsonl',\n 'gpt-3.5-turbo.jsonl',\n 'stablelm-tuned-alpha-7b.jsonl',\n 'vicuna-13b-v1.3.jsonl',\n 'oasst-sft-4-pythia-12b.jsonl',\n 'claude-v1.jsonl',\n 'guanaco-33b.jsonl',\n 'oasst-sft-7-llama-30b.jsonl',\n 'falcon-40b-instruct.jsonl']"
     },
     "execution_count": 6,
     "metadata": {},
     "output_type": "execute_result"
    }
   ],
   "source": [
    "os.listdir(\"fastchat/llm_judge/data/mt_bench/model_answer\")"
   ],
   "metadata": {
    "collapsed": false,
    "ExecuteTime": {
     "end_time": "2024-02-01T10:50:36.569916412Z",
     "start_time": "2024-02-01T10:50:36.540488399Z"
    }
   },
   "id": "52117f25d567cb09"
  },
  {
   "cell_type": "code",
   "execution_count": 7,
   "outputs": [],
   "source": [
    "answers = pd.read_json(\"fastchat/llm_judge/data/mt_bench/model_answer/noor.jsonl\", lines=True)"
   ],
   "metadata": {
    "collapsed": false,
    "ExecuteTime": {
     "end_time": "2024-02-01T10:51:13.870800190Z",
     "start_time": "2024-02-01T10:51:13.821999341Z"
    }
   },
   "id": "6604813bf06c6b3d"
  },
  {
   "cell_type": "code",
   "execution_count": 18,
   "outputs": [],
   "source": [
    "qs = pd.read_json(\"fastchat/llm_judge/data/mt_bench/question.jsonl\", lines=True)"
   ],
   "metadata": {
    "collapsed": false,
    "ExecuteTime": {
     "end_time": "2024-02-01T11:02:08.531813198Z",
     "start_time": "2024-02-01T11:02:08.494529764Z"
    }
   },
   "id": "c8ba13887c7b6393"
  },
  {
   "cell_type": "code",
   "execution_count": 19,
   "outputs": [
    {
     "data": {
      "text/plain": "    question_id    category  \\\n0            81     writing   \n1            82     writing   \n2            83     writing   \n3            84     writing   \n4            85     writing   \n..          ...         ...   \n75          156  humanities   \n76          157  humanities   \n77          158  humanities   \n78          159  humanities   \n79          160  humanities   \n\n                                                turns reference  \n0   [أكتب مقالة مشوقة في مدونة السفر حول رحلة حديث...       NaN  \n1   [نص مثالي لرسالة بريد إلكتروني احترافية تطلب ت...       NaN  \n2   [تخيل أنك تكتب مقالًا في المدونة تقارن فيه نمو...       NaN  \n3   [عزيزي (اسم الصديق/الصديقة الخاص بك)\\n\\nأرى أن...       NaN  \n4   [اصف شخصية متميزة ومميزة ، باستخدام صور قوية و...       NaN  \n..                                                ...       ...  \n75  [اشرح ما هو خطأ معدل الأساس واذكر خمسة أمثلة م...       NaN  \n76  [وصف خمسة مبادئ رئيسية في تقييم الحجج في الكتا...       NaN  \n77  [ما هي الأساليب التي استخدمها سقراط لتحدي الأف...       NaN  \n78  [ما هي بعض القواعد البروتوكولية للأعمال عند ال...       NaN  \n79  [اقترح خمسة أفلام وثائقية حائزة على جوائز تحتو...       NaN  \n\n[80 rows x 4 columns]",
      "text/html": "<div>\n<style scoped>\n    .dataframe tbody tr th:only-of-type {\n        vertical-align: middle;\n    }\n\n    .dataframe tbody tr th {\n        vertical-align: top;\n    }\n\n    .dataframe thead th {\n        text-align: right;\n    }\n</style>\n<table border=\"1\" class=\"dataframe\">\n  <thead>\n    <tr style=\"text-align: right;\">\n      <th></th>\n      <th>question_id</th>\n      <th>category</th>\n      <th>turns</th>\n      <th>reference</th>\n    </tr>\n  </thead>\n  <tbody>\n    <tr>\n      <th>0</th>\n      <td>81</td>\n      <td>writing</td>\n      <td>[أكتب مقالة مشوقة في مدونة السفر حول رحلة حديث...</td>\n      <td>NaN</td>\n    </tr>\n    <tr>\n      <th>1</th>\n      <td>82</td>\n      <td>writing</td>\n      <td>[نص مثالي لرسالة بريد إلكتروني احترافية تطلب ت...</td>\n      <td>NaN</td>\n    </tr>\n    <tr>\n      <th>2</th>\n      <td>83</td>\n      <td>writing</td>\n      <td>[تخيل أنك تكتب مقالًا في المدونة تقارن فيه نمو...</td>\n      <td>NaN</td>\n    </tr>\n    <tr>\n      <th>3</th>\n      <td>84</td>\n      <td>writing</td>\n      <td>[عزيزي (اسم الصديق/الصديقة الخاص بك)\\n\\nأرى أن...</td>\n      <td>NaN</td>\n    </tr>\n    <tr>\n      <th>4</th>\n      <td>85</td>\n      <td>writing</td>\n      <td>[اصف شخصية متميزة ومميزة ، باستخدام صور قوية و...</td>\n      <td>NaN</td>\n    </tr>\n    <tr>\n      <th>...</th>\n      <td>...</td>\n      <td>...</td>\n      <td>...</td>\n      <td>...</td>\n    </tr>\n    <tr>\n      <th>75</th>\n      <td>156</td>\n      <td>humanities</td>\n      <td>[اشرح ما هو خطأ معدل الأساس واذكر خمسة أمثلة م...</td>\n      <td>NaN</td>\n    </tr>\n    <tr>\n      <th>76</th>\n      <td>157</td>\n      <td>humanities</td>\n      <td>[وصف خمسة مبادئ رئيسية في تقييم الحجج في الكتا...</td>\n      <td>NaN</td>\n    </tr>\n    <tr>\n      <th>77</th>\n      <td>158</td>\n      <td>humanities</td>\n      <td>[ما هي الأساليب التي استخدمها سقراط لتحدي الأف...</td>\n      <td>NaN</td>\n    </tr>\n    <tr>\n      <th>78</th>\n      <td>159</td>\n      <td>humanities</td>\n      <td>[ما هي بعض القواعد البروتوكولية للأعمال عند ال...</td>\n      <td>NaN</td>\n    </tr>\n    <tr>\n      <th>79</th>\n      <td>160</td>\n      <td>humanities</td>\n      <td>[اقترح خمسة أفلام وثائقية حائزة على جوائز تحتو...</td>\n      <td>NaN</td>\n    </tr>\n  </tbody>\n</table>\n<p>80 rows × 4 columns</p>\n</div>"
     },
     "execution_count": 19,
     "metadata": {},
     "output_type": "execute_result"
    }
   ],
   "source": [
    "qs"
   ],
   "metadata": {
    "collapsed": false,
    "ExecuteTime": {
     "end_time": "2024-02-01T11:02:13.654016256Z",
     "start_time": "2024-02-01T11:02:13.639463542Z"
    }
   },
   "id": "429a0b5d26345dbc"
  },
  {
   "cell_type": "code",
   "execution_count": 27,
   "outputs": [
    {
     "name": "stdout",
     "output_type": "stream",
     "text": [
      "تخيل أنك تكتب مقالًا في المدونة تقارن فيه نموذجي هاتف ذكي شهيرين. اعد للمقال مخططًا يتضمن النقاط الرئيسية والعناوين الفرعية لمقارنة وتباين المزايا والأداء وتجربة المستخدم بفعالية بين النموذجين. (يُرجى توفير إجابة تتكون من أقل من 200 كلمة)\n",
      "\n",
      "مخطط المدونة:\n",
      "\n",
      "1. المقدمة:\n",
      "   - التعريف بالمقال وسرد الهدف منه.\n",
      "\n",
      "2. نظرة عامة على النموذج الأول:\n",
      "   - ذكر ماركة وموديل الهاتف.\n",
      "   - وصف الميزات الرئيسية والتقنيات المستخدمة.\n",
      "   - توضيح أداء الهاتف وقدرته على تلبية احتياجات المستخدم.\n",
      "\n",
      "3. نظرة عامة على النموذج الثاني:\n",
      "   - ذكر ماركة وموديل الهاتف.\n",
      "   - وصف الميزات الرئيسية والتقنيات المستخدمة.\n",
      "   - توضيح أداء الهاتف وقدرته على تلبية احتياجات المستخدم.\n",
      "\n",
      "4. مقارنة المزايا:\n",
      "   - النقاط القوية لكل هاتف مع التركيز على المزايا الفريدة.\n",
      "   - توضيح كيف يتفوق كل نموذج على الآخر في بعض الجوانب.\n",
      "\n",
      "5. مقارنة الأداء:\n",
      "   - مقارنة أداء الهاتفين في عمليات التطبيق المختلفة.\n",
      "   - ذكر قوة الأداء وقدرة الهاتفين على التعامل مع المهام المتعددة.\n",
      "\n",
      "6. تجربة المستخدم:\n",
      "   - تقييم وصف تجربة المستخدم لكل هاتف.\n",
      "   - ذكر سهولة الاستخدام وواجهة المستخدم.\n",
      "\n",
      "7. الخاتمة:\n",
      "   - استنتاج نقاط القوة والضعف لكل هاتف.\n",
      "   - ذكر الهاتف الأنسب لفئة معينة من المستخدمين.\n",
      "\n",
      "8. المراجع:\n",
      "   - ذكر المصادر المستخدمة للبحث والمعلومات المقدمة في المدونة.\n",
      "\n",
      "تحتوي هذه المخطط على بنية سلسة وترتيب منطقي للمدونة، حيث يمكن للقارئ استيعاب المقارنة بسهولة وفهم التفاصيل المقدمة.\n"
     ]
    }
   ],
   "source": [
    "print(qs.turns.iloc[2][0])"
   ],
   "metadata": {
    "collapsed": false,
    "ExecuteTime": {
     "end_time": "2024-02-01T11:10:08.829928110Z",
     "start_time": "2024-02-01T11:10:08.756015415Z"
    }
   },
   "id": "2c03c4f76b80d40"
  },
  {
   "cell_type": "code",
   "execution_count": 28,
   "outputs": [
    {
     "name": "stdout",
     "output_type": "stream",
     "text": [
      "خذ إجابتك السابقة وأعد صياغتها على شكل قصيدة ليمريك.\n"
     ]
    }
   ],
   "source": [
    "print(qs.turns.iloc[2][1])"
   ],
   "metadata": {
    "collapsed": false,
    "ExecuteTime": {
     "end_time": "2024-02-01T11:10:10.671279115Z",
     "start_time": "2024-02-01T11:10:10.659875928Z"
    }
   },
   "id": "d3514fa4c3c46f9"
  },
  {
   "cell_type": "code",
   "execution_count": 23,
   "outputs": [
    {
     "data": {
      "text/plain": "'العنوان: مغامرة لا تنسى: رحلة الى هاواي\\n\\nباعتباري مسافرا متعطشا، فقد حظيت بشرف زيارة مواقع مذهلة في جميع انحاء العالم. ولكن الرحلة التي قمت بها مؤخرا الى هاواي تركت انطباعا لا يمحى علي. من الشواطئ البكر المليئة باشجار النخيل والرمال البيضاء الى الغابات المطيرة المورقة، ومن القرى التقليدية الى الفن الحديث الصاخب، كانت هذه الرحلة بمثابة حلم اصبح حقيقة.\\n\\nعند وصولي، اذهلني الجمال الطبيعي الاخاذ الذي يحيط بي. كانت الشواطئ، باشجار النخيل الشاهقة التي تتمايل بلطف مع النسيم وابراج المراقبة العديدة، بمثابة خلفية مثالية للمغامرات التي كانت تنتظرني.\\n\\nبالنسبة لرحلتنا الثقافية، كان احد المعالم البارزة هو جولة في متحف بيرل هاربور التذكاري. وبينما كنت اسير في القاعات المليئة بالقطع الاثرية والمخطوطات والخرائط، شعرت باحساس غامر بالرهبة والتاثر بحكايات الشجاعة والتضحية خلال واحدة من اكثر اللحظات الحاسمة في تاريخ امتنا.\\n\\nوبالاستمرار في استكشافنا، تجولنا في شوارع مدينة هونولولو الصاخبة، حيث كان الباعة المتج'"
     },
     "execution_count": 23,
     "metadata": {},
     "output_type": "execute_result"
    }
   ],
   "source": [
    "answers.choices.iloc[0][0]['turns'][0]"
   ],
   "metadata": {
    "collapsed": false,
    "ExecuteTime": {
     "end_time": "2024-02-01T11:06:59.355204331Z",
     "start_time": "2024-02-01T11:06:59.271698007Z"
    }
   },
   "id": "287ba8462a3d670b"
  },
  {
   "cell_type": "code",
   "execution_count": null,
   "outputs": [],
   "source": [],
   "metadata": {
    "collapsed": false
   },
   "id": "32493f5c4e032654"
  },
  {
   "cell_type": "code",
   "execution_count": null,
   "outputs": [],
   "source": [],
   "metadata": {
    "collapsed": false
   },
   "id": "29549bfb43f9e2b0"
  },
  {
   "cell_type": "code",
   "execution_count": null,
   "outputs": [],
   "source": [],
   "metadata": {
    "collapsed": false
   },
   "id": "f348bcea6e2c2c91"
  },
  {
   "cell_type": "code",
   "execution_count": null,
   "outputs": [],
   "source": [],
   "metadata": {
    "collapsed": false
   },
   "id": "52472898214e9d33"
  },
  {
   "cell_type": "code",
   "execution_count": null,
   "outputs": [],
   "source": [
    "\n"
   ],
   "metadata": {
    "collapsed": false
   },
   "id": "a0736161c7a5bbeb"
  },
  {
   "cell_type": "code",
   "execution_count": 32,
   "outputs": [
    {
     "name": "stderr",
     "output_type": "stream",
     "text": [
      "/tmp/ipykernel_158046/2691893166.py:1: FutureWarning: Passing literal json to 'read_json' is deprecated and will be removed in a future version. To read from a literal string, wrap it in a 'StringIO' object.\n",
      "  df = pd.read_json(\"data/mt_bench/model_judgment/gpt-4_single.jsonl\", lines=True)\n"
     ]
    },
    {
     "ename": "ValueError",
     "evalue": "Expected object or value",
     "output_type": "error",
     "traceback": [
      "\u001B[0;31m---------------------------------------------------------------------------\u001B[0m",
      "\u001B[0;31mValueError\u001B[0m                                Traceback (most recent call last)",
      "Cell \u001B[0;32mIn[32], line 1\u001B[0m\n\u001B[0;32m----> 1\u001B[0m df \u001B[38;5;241m=\u001B[39m \u001B[43mpd\u001B[49m\u001B[38;5;241;43m.\u001B[39;49m\u001B[43mread_json\u001B[49m\u001B[43m(\u001B[49m\u001B[38;5;124;43m\"\u001B[39;49m\u001B[38;5;124;43mdata/mt_bench/model_judgment/gpt-4_single.jsonl\u001B[39;49m\u001B[38;5;124;43m\"\u001B[39;49m\u001B[43m,\u001B[49m\u001B[43m \u001B[49m\u001B[43mlines\u001B[49m\u001B[38;5;241;43m=\u001B[39;49m\u001B[38;5;28;43;01mTrue\u001B[39;49;00m\u001B[43m)\u001B[49m\n",
      "File \u001B[0;32m~/miniconda3/envs/mt_bench/lib/python3.10/site-packages/pandas/io/json/_json.py:815\u001B[0m, in \u001B[0;36mread_json\u001B[0;34m(path_or_buf, orient, typ, dtype, convert_axes, convert_dates, keep_default_dates, precise_float, date_unit, encoding, encoding_errors, lines, chunksize, compression, nrows, storage_options, dtype_backend, engine)\u001B[0m\n\u001B[1;32m    813\u001B[0m     \u001B[38;5;28;01mreturn\u001B[39;00m json_reader\n\u001B[1;32m    814\u001B[0m \u001B[38;5;28;01melse\u001B[39;00m:\n\u001B[0;32m--> 815\u001B[0m     \u001B[38;5;28;01mreturn\u001B[39;00m \u001B[43mjson_reader\u001B[49m\u001B[38;5;241;43m.\u001B[39;49m\u001B[43mread\u001B[49m\u001B[43m(\u001B[49m\u001B[43m)\u001B[49m\n",
      "File \u001B[0;32m~/miniconda3/envs/mt_bench/lib/python3.10/site-packages/pandas/io/json/_json.py:1023\u001B[0m, in \u001B[0;36mJsonReader.read\u001B[0;34m(self)\u001B[0m\n\u001B[1;32m   1021\u001B[0m         data \u001B[38;5;241m=\u001B[39m ensure_str(\u001B[38;5;28mself\u001B[39m\u001B[38;5;241m.\u001B[39mdata)\n\u001B[1;32m   1022\u001B[0m         data_lines \u001B[38;5;241m=\u001B[39m data\u001B[38;5;241m.\u001B[39msplit(\u001B[38;5;124m\"\u001B[39m\u001B[38;5;130;01m\\n\u001B[39;00m\u001B[38;5;124m\"\u001B[39m)\n\u001B[0;32m-> 1023\u001B[0m         obj \u001B[38;5;241m=\u001B[39m \u001B[38;5;28;43mself\u001B[39;49m\u001B[38;5;241;43m.\u001B[39;49m\u001B[43m_get_object_parser\u001B[49m\u001B[43m(\u001B[49m\u001B[38;5;28;43mself\u001B[39;49m\u001B[38;5;241;43m.\u001B[39;49m\u001B[43m_combine_lines\u001B[49m\u001B[43m(\u001B[49m\u001B[43mdata_lines\u001B[49m\u001B[43m)\u001B[49m\u001B[43m)\u001B[49m\n\u001B[1;32m   1024\u001B[0m \u001B[38;5;28;01melse\u001B[39;00m:\n\u001B[1;32m   1025\u001B[0m     obj \u001B[38;5;241m=\u001B[39m \u001B[38;5;28mself\u001B[39m\u001B[38;5;241m.\u001B[39m_get_object_parser(\u001B[38;5;28mself\u001B[39m\u001B[38;5;241m.\u001B[39mdata)\n",
      "File \u001B[0;32m~/miniconda3/envs/mt_bench/lib/python3.10/site-packages/pandas/io/json/_json.py:1051\u001B[0m, in \u001B[0;36mJsonReader._get_object_parser\u001B[0;34m(self, json)\u001B[0m\n\u001B[1;32m   1049\u001B[0m obj \u001B[38;5;241m=\u001B[39m \u001B[38;5;28;01mNone\u001B[39;00m\n\u001B[1;32m   1050\u001B[0m \u001B[38;5;28;01mif\u001B[39;00m typ \u001B[38;5;241m==\u001B[39m \u001B[38;5;124m\"\u001B[39m\u001B[38;5;124mframe\u001B[39m\u001B[38;5;124m\"\u001B[39m:\n\u001B[0;32m-> 1051\u001B[0m     obj \u001B[38;5;241m=\u001B[39m \u001B[43mFrameParser\u001B[49m\u001B[43m(\u001B[49m\u001B[43mjson\u001B[49m\u001B[43m,\u001B[49m\u001B[43m \u001B[49m\u001B[38;5;241;43m*\u001B[39;49m\u001B[38;5;241;43m*\u001B[39;49m\u001B[43mkwargs\u001B[49m\u001B[43m)\u001B[49m\u001B[38;5;241;43m.\u001B[39;49m\u001B[43mparse\u001B[49m\u001B[43m(\u001B[49m\u001B[43m)\u001B[49m\n\u001B[1;32m   1053\u001B[0m \u001B[38;5;28;01mif\u001B[39;00m typ \u001B[38;5;241m==\u001B[39m \u001B[38;5;124m\"\u001B[39m\u001B[38;5;124mseries\u001B[39m\u001B[38;5;124m\"\u001B[39m \u001B[38;5;129;01mor\u001B[39;00m obj \u001B[38;5;129;01mis\u001B[39;00m \u001B[38;5;28;01mNone\u001B[39;00m:\n\u001B[1;32m   1054\u001B[0m     \u001B[38;5;28;01mif\u001B[39;00m \u001B[38;5;129;01mnot\u001B[39;00m \u001B[38;5;28misinstance\u001B[39m(dtype, \u001B[38;5;28mbool\u001B[39m):\n",
      "File \u001B[0;32m~/miniconda3/envs/mt_bench/lib/python3.10/site-packages/pandas/io/json/_json.py:1187\u001B[0m, in \u001B[0;36mParser.parse\u001B[0;34m(self)\u001B[0m\n\u001B[1;32m   1185\u001B[0m \u001B[38;5;129m@final\u001B[39m\n\u001B[1;32m   1186\u001B[0m \u001B[38;5;28;01mdef\u001B[39;00m \u001B[38;5;21mparse\u001B[39m(\u001B[38;5;28mself\u001B[39m):\n\u001B[0;32m-> 1187\u001B[0m     \u001B[38;5;28;43mself\u001B[39;49m\u001B[38;5;241;43m.\u001B[39;49m\u001B[43m_parse\u001B[49m\u001B[43m(\u001B[49m\u001B[43m)\u001B[49m\n\u001B[1;32m   1189\u001B[0m     \u001B[38;5;28;01mif\u001B[39;00m \u001B[38;5;28mself\u001B[39m\u001B[38;5;241m.\u001B[39mobj \u001B[38;5;129;01mis\u001B[39;00m \u001B[38;5;28;01mNone\u001B[39;00m:\n\u001B[1;32m   1190\u001B[0m         \u001B[38;5;28;01mreturn\u001B[39;00m \u001B[38;5;28;01mNone\u001B[39;00m\n",
      "File \u001B[0;32m~/miniconda3/envs/mt_bench/lib/python3.10/site-packages/pandas/io/json/_json.py:1400\u001B[0m, in \u001B[0;36mFrameParser._parse\u001B[0;34m(self)\u001B[0m\n\u001B[1;32m   1396\u001B[0m orient \u001B[38;5;241m=\u001B[39m \u001B[38;5;28mself\u001B[39m\u001B[38;5;241m.\u001B[39morient\n\u001B[1;32m   1398\u001B[0m \u001B[38;5;28;01mif\u001B[39;00m orient \u001B[38;5;241m==\u001B[39m \u001B[38;5;124m\"\u001B[39m\u001B[38;5;124mcolumns\u001B[39m\u001B[38;5;124m\"\u001B[39m:\n\u001B[1;32m   1399\u001B[0m     \u001B[38;5;28mself\u001B[39m\u001B[38;5;241m.\u001B[39mobj \u001B[38;5;241m=\u001B[39m DataFrame(\n\u001B[0;32m-> 1400\u001B[0m         \u001B[43mujson_loads\u001B[49m\u001B[43m(\u001B[49m\u001B[43mjson\u001B[49m\u001B[43m,\u001B[49m\u001B[43m \u001B[49m\u001B[43mprecise_float\u001B[49m\u001B[38;5;241;43m=\u001B[39;49m\u001B[38;5;28;43mself\u001B[39;49m\u001B[38;5;241;43m.\u001B[39;49m\u001B[43mprecise_float\u001B[49m\u001B[43m)\u001B[49m, dtype\u001B[38;5;241m=\u001B[39m\u001B[38;5;28;01mNone\u001B[39;00m\n\u001B[1;32m   1401\u001B[0m     )\n\u001B[1;32m   1402\u001B[0m \u001B[38;5;28;01melif\u001B[39;00m orient \u001B[38;5;241m==\u001B[39m \u001B[38;5;124m\"\u001B[39m\u001B[38;5;124msplit\u001B[39m\u001B[38;5;124m\"\u001B[39m:\n\u001B[1;32m   1403\u001B[0m     decoded \u001B[38;5;241m=\u001B[39m {\n\u001B[1;32m   1404\u001B[0m         \u001B[38;5;28mstr\u001B[39m(k): v\n\u001B[1;32m   1405\u001B[0m         \u001B[38;5;28;01mfor\u001B[39;00m k, v \u001B[38;5;129;01min\u001B[39;00m ujson_loads(json, precise_float\u001B[38;5;241m=\u001B[39m\u001B[38;5;28mself\u001B[39m\u001B[38;5;241m.\u001B[39mprecise_float)\u001B[38;5;241m.\u001B[39mitems()\n\u001B[1;32m   1406\u001B[0m     }\n",
      "\u001B[0;31mValueError\u001B[0m: Expected object or value"
     ]
    }
   ],
   "source": [
    "df = pd.read_json(\"data/mt_bench/model_judgment/gpt-4_single.jsonl\", lines=True)"
   ],
   "metadata": {
    "collapsed": false,
    "ExecuteTime": {
     "end_time": "2024-02-01T12:46:03.253686182Z",
     "start_time": "2024-02-01T12:46:03.052038142Z"
    }
   },
   "id": "f958f3a216c5ab3f"
  },
  {
   "cell_type": "code",
   "execution_count": 35,
   "outputs": [
    {
     "data": {
      "text/plain": "      question_id model                          judge  \\\n5600           82  noor  [gpt-4, single-v1-multi-turn]   \n5601           87  noor             [gpt-4, single-v1]   \n5602           85  noor  [gpt-4, single-v1-multi-turn]   \n5603           85  noor             [gpt-4, single-v1]   \n5604           83  noor             [gpt-4, single-v1]   \n5605           87  noor  [gpt-4, single-v1-multi-turn]   \n5606           83  noor  [gpt-4, single-v1-multi-turn]   \n5607           82  noor             [gpt-4, single-v1]   \n5608           81  noor  [gpt-4, single-v1-multi-turn]   \n5609           84  noor  [gpt-4, single-v1-multi-turn]   \n5610           81  noor             [gpt-4, single-v1]   \n5611           84  noor             [gpt-4, single-v1]   \n5612           86  noor             [gpt-4, single-v1]   \n5613           86  noor  [gpt-4, single-v1-multi-turn]   \n5618           81  noor             [gpt-4, single-v1]   \n5619           82  noor             [gpt-4, single-v1]   \n5620           81  noor  [gpt-4, single-v1-multi-turn]   \n5621           82  noor  [gpt-4, single-v1-multi-turn]   \n5622           81  noor             [gpt-4, single-v1]   \n5623           82  noor             [gpt-4, single-v1]   \n5624           81  noor  [gpt-4, single-v1-multi-turn]   \n5625           82  noor  [gpt-4, single-v1-multi-turn]   \n5626           87  noor             [gpt-4, single-v1]   \n5627           82  noor             [gpt-4, single-v1]   \n5628           81  noor  [gpt-4, single-v1-multi-turn]   \n5629           86  noor  [gpt-4, single-v1-multi-turn]   \n5630           82  noor  [gpt-4, single-v1-multi-turn]   \n5631           85  noor             [gpt-4, single-v1]   \n5632           83  noor             [gpt-4, single-v1]   \n5633           87  noor  [gpt-4, single-v1-multi-turn]   \n5634           83  noor  [gpt-4, single-v1-multi-turn]   \n5635           88  noor             [gpt-4, single-v1]   \n5636           88  noor  [gpt-4, single-v1-multi-turn]   \n5637           84  noor             [gpt-4, single-v1]   \n5638           84  noor  [gpt-4, single-v1-multi-turn]   \n5639           86  noor             [gpt-4, single-v1]   \n5640           81  noor             [gpt-4, single-v1]   \n5641           85  noor  [gpt-4, single-v1-multi-turn]   \n5642           87  noor             [gpt-4, single-v1]   \n5643           82  noor             [gpt-4, single-v1]   \n5644           82  noor  [gpt-4, single-v1-multi-turn]   \n5645           81  noor  [gpt-4, single-v1-multi-turn]   \n5646           86  noor  [gpt-4, single-v1-multi-turn]   \n5647           85  noor             [gpt-4, single-v1]   \n5648           83  noor             [gpt-4, single-v1]   \n5649           83  noor  [gpt-4, single-v1-multi-turn]   \n5650           87  noor  [gpt-4, single-v1-multi-turn]   \n5651           88  noor             [gpt-4, single-v1]   \n5652           88  noor  [gpt-4, single-v1-multi-turn]   \n5653           84  noor             [gpt-4, single-v1]   \n5654           84  noor  [gpt-4, single-v1-multi-turn]   \n5655           86  noor             [gpt-4, single-v1]   \n5656           81  noor             [gpt-4, single-v1]   \n5657           85  noor  [gpt-4, single-v1-multi-turn]   \n\n                                            user_prompt  \\\n5600  <|بداية المحادثة بين المساعد A والمستخدم|>\\n\\n...   \n5601  [التعليمات]\\nيرجى التصرف كقاضي محايد وتقييم جو...   \n5602  <|بداية المحادثة بين المساعد A والمستخدم|>\\n\\n...   \n5603  [التعليمات]\\nيرجى التصرف كقاضي محايد وتقييم جو...   \n5604  [التعليمات]\\nيرجى التصرف كقاضي محايد وتقييم جو...   \n5605  <|بداية المحادثة بين المساعد A والمستخدم|>\\n\\n...   \n5606  <|بداية المحادثة بين المساعد A والمستخدم|>\\n\\n...   \n5607  [التعليمات]\\nيرجى التصرف كقاضي محايد وتقييم جو...   \n5608  <|بداية المحادثة بين المساعد A والمستخدم|>\\n\\n...   \n5609  <|بداية المحادثة بين المساعد A والمستخدم|>\\n\\n...   \n5610  [التعليمات]\\nيرجى التصرف كقاضي محايد وتقييم جو...   \n5611  [التعليمات]\\nيرجى التصرف كقاضي محايد وتقييم جو...   \n5612  [التعليمات]\\nيرجى التصرف كقاضي محايد وتقييم جو...   \n5613  <|بداية المحادثة بين المساعد A والمستخدم|>\\n\\n...   \n5618  [التعليمات]\\nيرجى التصرف كقاضي محايد وتقييم جو...   \n5619  [التعليمات]\\nيرجى التصرف كقاضي محايد وتقييم جو...   \n5620  <|بداية المحادثة بين المساعد A والمستخدم|>\\n\\n...   \n5621  <|بداية المحادثة بين المساعد A والمستخدم|>\\n\\n...   \n5622  [التعليمات]\\nيرجى التصرف كقاضي محايد وتقييم جو...   \n5623  [التعليمات]\\nيرجى التصرف كقاضي محايد وتقييم جو...   \n5624  <|بداية المحادثة بين المساعد A والمستخدم|>\\n\\n...   \n5625  <|بداية المحادثة بين المساعد A والمستخدم|>\\n\\n...   \n5626  [التعليمات]\\nيرجى التصرف كقاضي محايد وتقييم جو...   \n5627  [التعليمات]\\nيرجى التصرف كقاضي محايد وتقييم جو...   \n5628  <|بداية المحادثة بين المساعد A والمستخدم|>\\n\\n...   \n5629  <|بداية المحادثة بين المساعد A والمستخدم|>\\n\\n...   \n5630  <|بداية المحادثة بين المساعد A والمستخدم|>\\n\\n...   \n5631  [التعليمات]\\nيرجى التصرف كقاضي محايد وتقييم جو...   \n5632  [التعليمات]\\nيرجى التصرف كقاضي محايد وتقييم جو...   \n5633  <|بداية المحادثة بين المساعد A والمستخدم|>\\n\\n...   \n5634  <|بداية المحادثة بين المساعد A والمستخدم|>\\n\\n...   \n5635  [التعليمات]\\nيرجى التصرف كقاضي محايد وتقييم جو...   \n5636  <|بداية المحادثة بين المساعد A والمستخدم|>\\n\\n...   \n5637  [التعليمات]\\nيرجى التصرف كقاضي محايد وتقييم جو...   \n5638  <|بداية المحادثة بين المساعد A والمستخدم|>\\n\\n...   \n5639  [التعليمات]\\nيرجى التصرف كقاضي محايد وتقييم جو...   \n5640  [التعليمات]\\nيرجى التصرف كقاضي محايد وتقييم جو...   \n5641  <|بداية المحادثة بين المساعد A والمستخدم|>\\n\\n...   \n5642  [التعليمات]\\nيرجى التصرف كقاضي محايد وتقييم جو...   \n5643  [التعليمات]\\nيرجى التصرف كقاضي محايد وتقييم جو...   \n5644  <|بداية المحادثة بين المساعد A والمستخدم|>\\n\\n...   \n5645  <|بداية المحادثة بين المساعد A والمستخدم|>\\n\\n...   \n5646  <|بداية المحادثة بين المساعد A والمستخدم|>\\n\\n...   \n5647  [التعليمات]\\nيرجى التصرف كقاضي محايد وتقييم جو...   \n5648  [التعليمات]\\nيرجى التصرف كقاضي محايد وتقييم جو...   \n5649  <|بداية المحادثة بين المساعد A والمستخدم|>\\n\\n...   \n5650  <|بداية المحادثة بين المساعد A والمستخدم|>\\n\\n...   \n5651  [التعليمات]\\nيرجى التصرف كقاضي محايد وتقييم جو...   \n5652  <|بداية المحادثة بين المساعد A والمستخدم|>\\n\\n...   \n5653  [التعليمات]\\nيرجى التصرف كقاضي محايد وتقييم جو...   \n5654  <|بداية المحادثة بين المساعد A والمستخدم|>\\n\\n...   \n5655  [التعليمات]\\nيرجى التصرف كقاضي محايد وتقييم جو...   \n5656  [التعليمات]\\nيرجى التصرف كقاضي محايد وتقييم جو...   \n5657  <|بداية المحادثة بين المساعد A والمستخدم|>\\n\\n...   \n\n                                               judgment  score  turn  \\\n5600  الرد الذي قدمه المساعد الذكي ليس مرتبطًا بالسؤ...    1.0     2   \n5601  الرد من المساعد يبدو جذابًا ومبدعًا، ولكنه لم ...    4.0     1   \n5602  الرد الذي قدمه المساعد الذكي ليس مكتملًا ولا ي...    2.0     2   \n5603  الرد من المساعد غير مكتمل ولا يوفر تفاصيل كافي...    2.0     1   \n5604  الرد من المساعد كان موجزًا ومباشرًا، وقد تمكن ...    6.0     1   \n5605  الرد الذي قدمه المساعد الذكاء الصناعي ليس مفيد...    2.0     2   \n5606  الرد الذي قدمه المساعد الذكي على السؤال الثاني...    2.0     2   \n5607  الرد من المساعد غير كامل ولا يتضمن جميع النقاط...    2.0     1   \n5608  المساعد الذكي لم يقدم إجابة مرضية على السؤال ا...    2.0     2   \n5609  الرد الذي قدمه المساعد الذكي لم يكن مكتملًا ول...    2.0     2   \n5610  الرد من المساعد كان يبدأ بشكل جيد ومشوق، ولكنه...    2.0     1   \n5611  الرد المقدم من المساعد الذكي ليس متعلقًا بالسؤ...    1.0     1   \n5612  الرد من المساعد يقدم تفاصيل حسية جذابة وممتعة ...    7.0     1   \n5613  المساعد الذكي لم يفهم السؤال بشكل صحيح. طلب ال...    1.0     2   \n5618  الرد من المساعد غير كامل وينقطع فجأة، ولذلك فإ...    1.0     1   \n5619  الرد من المساعد غير كامل ولا يتضمن جميع النقاط...    2.0     1   \n5620  الرد الثاني من المساعد الذكي ليس مفيدًا أو ذا ...    1.0     2   \n5621  الرد الثاني من المساعد الذكي ليس متناسقًا ولا ...    2.0     2   \n5622  الرد من المساعد كان جيدًا ومشوقًا ويعطي القارئ...    7.0     1   \n5623  الرد من المساعد كان جيدًا ومفصلاً، ولكنه لم يك...    6.0     1   \n5624  الرد الثاني من المساعد A لم يكن متوافقًا مع طل...    2.0     2   \n5625  المساعد الذكي الصناعي قدم ردًا مفصلاً ومنظمًا ...    8.0     2   \n5626  الرد من المساعد كان مفصلاً ومبدعاً ومثيراً للا...    9.0     1   \n5627  الرد من المساعد كان مفصلاً ومنظماً بشكل جيد. ا...    8.0     1   \n5628  المساعد الذكي قام بتقديم إجابة ممتازة على طلب ...   10.0     2   \n5629  المساعد الذكي قام بتقديم إجابة مبتكرة ومفصلة ع...    7.0     2   \n5630  الرد الذي قدمه المساعد الذكي كان مربكًا وغير م...    2.0     2   \n5631  الرد من المساعد كان متماسكاً ومتناسقاً، حيث اس...    7.0     1   \n5632  الرد من المساعد كان مفصلاً ومنظماً بشكل جيد. و...    6.0     1   \n5633  الرد الذي قدمه المساعد الذكي ليس متوافقًا مع ط...    2.0     2   \n5634  المساعد الذكي قام بتحويل الإجابة السابقة إلى ق...    8.0     2   \n5635  الرد من المساعد كان مثيرًا ومبتكرًا ومرتبطًا ب...    8.0     1   \n5636  المساعد الذكي قدم ردًا ممتازًا على السؤال الثا...   10.0     2   \n5637  الرد المقدم من المساعد الذكي غير موجود أو غير ...    1.0     1   \n5638  الرد الذي قدمه المساعد الذكي ليس مرضيًا ولا يت...    1.0     2   \n5639  الرد من المساعد كان ممتازًا ومفصلاً. استخدم ال...   10.0     1   \n5640  الرد من المساعد كان مفصلاً ومشوقاً، وقد تمكن م...    9.0     1   \n5641  المساعد الذكي لم يفهم السؤال بشكل صحيح. المستخ...    2.0     2   \n5642  الرد من المساعد كان مفصلاً ومبدعاً. القصة التي...    8.0     1   \n5643  الرد من المساعد كان مفصلاً ومنظماً بشكل جيد. ا...    8.0     1   \n5644  المساعد الذكي قدم ردًا غير متوقع على السؤال ال...    1.0     2   \n5645  المساعد الذكي قام بإعادة صياغة الرد بنجاح، حيث...    9.0     2   \n5646  المساعد الذكي قام بتنفيذ طلب المستخدم بشكل صحي...    8.0     2   \n5647  الرد من المساعد الذكي كان متماسكًا ومتناسقًا، ...    6.0     1   \n5648  الرد من المساعد كان مفصلاً ومنظماً بشكل جيد. و...    5.0     1   \n5649  المساعد الذكي قام بتحويل الإجابة السابقة إلى ق...    9.0     2   \n5650  الرد الذي قدمه المساعد الذكي ليس مرضيًا. المست...    2.0     2   \n5651  الرد من المساعد كان مثيرًا ومبتكرًا ومرتبطًا ب...    9.0     1   \n5652  الرد الذي قدمه المساعد الذكي كان متعمقاً ومفصل...   10.0     2   \n5653  الرد من المساعد الذكي غير موجود أو غير مرئي في...   -1.0     1   \n5654  الرد الذي قدمه المساعد الذكي ليس مرضيًا. المست...    2.0     2   \n5655  الرد من المساعد كان ممتازًا ومفصلاً. استخدم ال...   10.0     1   \n5656  الرد من المساعد كان مفصلاً ومشوقاً، وقد تمكن م...    9.0     1   \n5657  المساعد الذكي لم يفهم السؤال بشكل صحيح. المستخ...    2.0     2   \n\n            tstamp  \n5600  1.706703e+09  \n5601  1.706703e+09  \n5602  1.706703e+09  \n5603  1.706703e+09  \n5604  1.706703e+09  \n5605  1.706703e+09  \n5606  1.706703e+09  \n5607  1.706703e+09  \n5608  1.706703e+09  \n5609  1.706703e+09  \n5610  1.706703e+09  \n5611  1.706703e+09  \n5612  1.706703e+09  \n5613  1.706703e+09  \n5618  1.706705e+09  \n5619  1.706705e+09  \n5620  1.706705e+09  \n5621  1.706705e+09  \n5622  1.706705e+09  \n5623  1.706705e+09  \n5624  1.706705e+09  \n5625  1.706705e+09  \n5626  1.706790e+09  \n5627  1.706790e+09  \n5628  1.706790e+09  \n5629  1.706790e+09  \n5630  1.706790e+09  \n5631  1.706790e+09  \n5632  1.706790e+09  \n5633  1.706790e+09  \n5634  1.706790e+09  \n5635  1.706790e+09  \n5636  1.706790e+09  \n5637  1.706790e+09  \n5638  1.706790e+09  \n5639  1.706790e+09  \n5640  1.706790e+09  \n5641  1.706790e+09  \n5642  1.706791e+09  \n5643  1.706791e+09  \n5644  1.706791e+09  \n5645  1.706791e+09  \n5646  1.706791e+09  \n5647  1.706791e+09  \n5648  1.706791e+09  \n5649  1.706791e+09  \n5650  1.706791e+09  \n5651  1.706791e+09  \n5652  1.706791e+09  \n5653  1.706791e+09  \n5654  1.706791e+09  \n5655  1.706791e+09  \n5656  1.706791e+09  \n5657  1.706791e+09  ",
      "text/html": "<div>\n<style scoped>\n    .dataframe tbody tr th:only-of-type {\n        vertical-align: middle;\n    }\n\n    .dataframe tbody tr th {\n        vertical-align: top;\n    }\n\n    .dataframe thead th {\n        text-align: right;\n    }\n</style>\n<table border=\"1\" class=\"dataframe\">\n  <thead>\n    <tr style=\"text-align: right;\">\n      <th></th>\n      <th>question_id</th>\n      <th>model</th>\n      <th>judge</th>\n      <th>user_prompt</th>\n      <th>judgment</th>\n      <th>score</th>\n      <th>turn</th>\n      <th>tstamp</th>\n    </tr>\n  </thead>\n  <tbody>\n    <tr>\n      <th>5600</th>\n      <td>82</td>\n      <td>noor</td>\n      <td>[gpt-4, single-v1-multi-turn]</td>\n      <td>&lt;|بداية المحادثة بين المساعد A والمستخدم|&gt;\\n\\n...</td>\n      <td>الرد الذي قدمه المساعد الذكي ليس مرتبطًا بالسؤ...</td>\n      <td>1.0</td>\n      <td>2</td>\n      <td>1.706703e+09</td>\n    </tr>\n    <tr>\n      <th>5601</th>\n      <td>87</td>\n      <td>noor</td>\n      <td>[gpt-4, single-v1]</td>\n      <td>[التعليمات]\\nيرجى التصرف كقاضي محايد وتقييم جو...</td>\n      <td>الرد من المساعد يبدو جذابًا ومبدعًا، ولكنه لم ...</td>\n      <td>4.0</td>\n      <td>1</td>\n      <td>1.706703e+09</td>\n    </tr>\n    <tr>\n      <th>5602</th>\n      <td>85</td>\n      <td>noor</td>\n      <td>[gpt-4, single-v1-multi-turn]</td>\n      <td>&lt;|بداية المحادثة بين المساعد A والمستخدم|&gt;\\n\\n...</td>\n      <td>الرد الذي قدمه المساعد الذكي ليس مكتملًا ولا ي...</td>\n      <td>2.0</td>\n      <td>2</td>\n      <td>1.706703e+09</td>\n    </tr>\n    <tr>\n      <th>5603</th>\n      <td>85</td>\n      <td>noor</td>\n      <td>[gpt-4, single-v1]</td>\n      <td>[التعليمات]\\nيرجى التصرف كقاضي محايد وتقييم جو...</td>\n      <td>الرد من المساعد غير مكتمل ولا يوفر تفاصيل كافي...</td>\n      <td>2.0</td>\n      <td>1</td>\n      <td>1.706703e+09</td>\n    </tr>\n    <tr>\n      <th>5604</th>\n      <td>83</td>\n      <td>noor</td>\n      <td>[gpt-4, single-v1]</td>\n      <td>[التعليمات]\\nيرجى التصرف كقاضي محايد وتقييم جو...</td>\n      <td>الرد من المساعد كان موجزًا ومباشرًا، وقد تمكن ...</td>\n      <td>6.0</td>\n      <td>1</td>\n      <td>1.706703e+09</td>\n    </tr>\n    <tr>\n      <th>5605</th>\n      <td>87</td>\n      <td>noor</td>\n      <td>[gpt-4, single-v1-multi-turn]</td>\n      <td>&lt;|بداية المحادثة بين المساعد A والمستخدم|&gt;\\n\\n...</td>\n      <td>الرد الذي قدمه المساعد الذكاء الصناعي ليس مفيد...</td>\n      <td>2.0</td>\n      <td>2</td>\n      <td>1.706703e+09</td>\n    </tr>\n    <tr>\n      <th>5606</th>\n      <td>83</td>\n      <td>noor</td>\n      <td>[gpt-4, single-v1-multi-turn]</td>\n      <td>&lt;|بداية المحادثة بين المساعد A والمستخدم|&gt;\\n\\n...</td>\n      <td>الرد الذي قدمه المساعد الذكي على السؤال الثاني...</td>\n      <td>2.0</td>\n      <td>2</td>\n      <td>1.706703e+09</td>\n    </tr>\n    <tr>\n      <th>5607</th>\n      <td>82</td>\n      <td>noor</td>\n      <td>[gpt-4, single-v1]</td>\n      <td>[التعليمات]\\nيرجى التصرف كقاضي محايد وتقييم جو...</td>\n      <td>الرد من المساعد غير كامل ولا يتضمن جميع النقاط...</td>\n      <td>2.0</td>\n      <td>1</td>\n      <td>1.706703e+09</td>\n    </tr>\n    <tr>\n      <th>5608</th>\n      <td>81</td>\n      <td>noor</td>\n      <td>[gpt-4, single-v1-multi-turn]</td>\n      <td>&lt;|بداية المحادثة بين المساعد A والمستخدم|&gt;\\n\\n...</td>\n      <td>المساعد الذكي لم يقدم إجابة مرضية على السؤال ا...</td>\n      <td>2.0</td>\n      <td>2</td>\n      <td>1.706703e+09</td>\n    </tr>\n    <tr>\n      <th>5609</th>\n      <td>84</td>\n      <td>noor</td>\n      <td>[gpt-4, single-v1-multi-turn]</td>\n      <td>&lt;|بداية المحادثة بين المساعد A والمستخدم|&gt;\\n\\n...</td>\n      <td>الرد الذي قدمه المساعد الذكي لم يكن مكتملًا ول...</td>\n      <td>2.0</td>\n      <td>2</td>\n      <td>1.706703e+09</td>\n    </tr>\n    <tr>\n      <th>5610</th>\n      <td>81</td>\n      <td>noor</td>\n      <td>[gpt-4, single-v1]</td>\n      <td>[التعليمات]\\nيرجى التصرف كقاضي محايد وتقييم جو...</td>\n      <td>الرد من المساعد كان يبدأ بشكل جيد ومشوق، ولكنه...</td>\n      <td>2.0</td>\n      <td>1</td>\n      <td>1.706703e+09</td>\n    </tr>\n    <tr>\n      <th>5611</th>\n      <td>84</td>\n      <td>noor</td>\n      <td>[gpt-4, single-v1]</td>\n      <td>[التعليمات]\\nيرجى التصرف كقاضي محايد وتقييم جو...</td>\n      <td>الرد المقدم من المساعد الذكي ليس متعلقًا بالسؤ...</td>\n      <td>1.0</td>\n      <td>1</td>\n      <td>1.706703e+09</td>\n    </tr>\n    <tr>\n      <th>5612</th>\n      <td>86</td>\n      <td>noor</td>\n      <td>[gpt-4, single-v1]</td>\n      <td>[التعليمات]\\nيرجى التصرف كقاضي محايد وتقييم جو...</td>\n      <td>الرد من المساعد يقدم تفاصيل حسية جذابة وممتعة ...</td>\n      <td>7.0</td>\n      <td>1</td>\n      <td>1.706703e+09</td>\n    </tr>\n    <tr>\n      <th>5613</th>\n      <td>86</td>\n      <td>noor</td>\n      <td>[gpt-4, single-v1-multi-turn]</td>\n      <td>&lt;|بداية المحادثة بين المساعد A والمستخدم|&gt;\\n\\n...</td>\n      <td>المساعد الذكي لم يفهم السؤال بشكل صحيح. طلب ال...</td>\n      <td>1.0</td>\n      <td>2</td>\n      <td>1.706703e+09</td>\n    </tr>\n    <tr>\n      <th>5618</th>\n      <td>81</td>\n      <td>noor</td>\n      <td>[gpt-4, single-v1]</td>\n      <td>[التعليمات]\\nيرجى التصرف كقاضي محايد وتقييم جو...</td>\n      <td>الرد من المساعد غير كامل وينقطع فجأة، ولذلك فإ...</td>\n      <td>1.0</td>\n      <td>1</td>\n      <td>1.706705e+09</td>\n    </tr>\n    <tr>\n      <th>5619</th>\n      <td>82</td>\n      <td>noor</td>\n      <td>[gpt-4, single-v1]</td>\n      <td>[التعليمات]\\nيرجى التصرف كقاضي محايد وتقييم جو...</td>\n      <td>الرد من المساعد غير كامل ولا يتضمن جميع النقاط...</td>\n      <td>2.0</td>\n      <td>1</td>\n      <td>1.706705e+09</td>\n    </tr>\n    <tr>\n      <th>5620</th>\n      <td>81</td>\n      <td>noor</td>\n      <td>[gpt-4, single-v1-multi-turn]</td>\n      <td>&lt;|بداية المحادثة بين المساعد A والمستخدم|&gt;\\n\\n...</td>\n      <td>الرد الثاني من المساعد الذكي ليس مفيدًا أو ذا ...</td>\n      <td>1.0</td>\n      <td>2</td>\n      <td>1.706705e+09</td>\n    </tr>\n    <tr>\n      <th>5621</th>\n      <td>82</td>\n      <td>noor</td>\n      <td>[gpt-4, single-v1-multi-turn]</td>\n      <td>&lt;|بداية المحادثة بين المساعد A والمستخدم|&gt;\\n\\n...</td>\n      <td>الرد الثاني من المساعد الذكي ليس متناسقًا ولا ...</td>\n      <td>2.0</td>\n      <td>2</td>\n      <td>1.706705e+09</td>\n    </tr>\n    <tr>\n      <th>5622</th>\n      <td>81</td>\n      <td>noor</td>\n      <td>[gpt-4, single-v1]</td>\n      <td>[التعليمات]\\nيرجى التصرف كقاضي محايد وتقييم جو...</td>\n      <td>الرد من المساعد كان جيدًا ومشوقًا ويعطي القارئ...</td>\n      <td>7.0</td>\n      <td>1</td>\n      <td>1.706705e+09</td>\n    </tr>\n    <tr>\n      <th>5623</th>\n      <td>82</td>\n      <td>noor</td>\n      <td>[gpt-4, single-v1]</td>\n      <td>[التعليمات]\\nيرجى التصرف كقاضي محايد وتقييم جو...</td>\n      <td>الرد من المساعد كان جيدًا ومفصلاً، ولكنه لم يك...</td>\n      <td>6.0</td>\n      <td>1</td>\n      <td>1.706705e+09</td>\n    </tr>\n    <tr>\n      <th>5624</th>\n      <td>81</td>\n      <td>noor</td>\n      <td>[gpt-4, single-v1-multi-turn]</td>\n      <td>&lt;|بداية المحادثة بين المساعد A والمستخدم|&gt;\\n\\n...</td>\n      <td>الرد الثاني من المساعد A لم يكن متوافقًا مع طل...</td>\n      <td>2.0</td>\n      <td>2</td>\n      <td>1.706705e+09</td>\n    </tr>\n    <tr>\n      <th>5625</th>\n      <td>82</td>\n      <td>noor</td>\n      <td>[gpt-4, single-v1-multi-turn]</td>\n      <td>&lt;|بداية المحادثة بين المساعد A والمستخدم|&gt;\\n\\n...</td>\n      <td>المساعد الذكي الصناعي قدم ردًا مفصلاً ومنظمًا ...</td>\n      <td>8.0</td>\n      <td>2</td>\n      <td>1.706705e+09</td>\n    </tr>\n    <tr>\n      <th>5626</th>\n      <td>87</td>\n      <td>noor</td>\n      <td>[gpt-4, single-v1]</td>\n      <td>[التعليمات]\\nيرجى التصرف كقاضي محايد وتقييم جو...</td>\n      <td>الرد من المساعد كان مفصلاً ومبدعاً ومثيراً للا...</td>\n      <td>9.0</td>\n      <td>1</td>\n      <td>1.706790e+09</td>\n    </tr>\n    <tr>\n      <th>5627</th>\n      <td>82</td>\n      <td>noor</td>\n      <td>[gpt-4, single-v1]</td>\n      <td>[التعليمات]\\nيرجى التصرف كقاضي محايد وتقييم جو...</td>\n      <td>الرد من المساعد كان مفصلاً ومنظماً بشكل جيد. ا...</td>\n      <td>8.0</td>\n      <td>1</td>\n      <td>1.706790e+09</td>\n    </tr>\n    <tr>\n      <th>5628</th>\n      <td>81</td>\n      <td>noor</td>\n      <td>[gpt-4, single-v1-multi-turn]</td>\n      <td>&lt;|بداية المحادثة بين المساعد A والمستخدم|&gt;\\n\\n...</td>\n      <td>المساعد الذكي قام بتقديم إجابة ممتازة على طلب ...</td>\n      <td>10.0</td>\n      <td>2</td>\n      <td>1.706790e+09</td>\n    </tr>\n    <tr>\n      <th>5629</th>\n      <td>86</td>\n      <td>noor</td>\n      <td>[gpt-4, single-v1-multi-turn]</td>\n      <td>&lt;|بداية المحادثة بين المساعد A والمستخدم|&gt;\\n\\n...</td>\n      <td>المساعد الذكي قام بتقديم إجابة مبتكرة ومفصلة ع...</td>\n      <td>7.0</td>\n      <td>2</td>\n      <td>1.706790e+09</td>\n    </tr>\n    <tr>\n      <th>5630</th>\n      <td>82</td>\n      <td>noor</td>\n      <td>[gpt-4, single-v1-multi-turn]</td>\n      <td>&lt;|بداية المحادثة بين المساعد A والمستخدم|&gt;\\n\\n...</td>\n      <td>الرد الذي قدمه المساعد الذكي كان مربكًا وغير م...</td>\n      <td>2.0</td>\n      <td>2</td>\n      <td>1.706790e+09</td>\n    </tr>\n    <tr>\n      <th>5631</th>\n      <td>85</td>\n      <td>noor</td>\n      <td>[gpt-4, single-v1]</td>\n      <td>[التعليمات]\\nيرجى التصرف كقاضي محايد وتقييم جو...</td>\n      <td>الرد من المساعد كان متماسكاً ومتناسقاً، حيث اس...</td>\n      <td>7.0</td>\n      <td>1</td>\n      <td>1.706790e+09</td>\n    </tr>\n    <tr>\n      <th>5632</th>\n      <td>83</td>\n      <td>noor</td>\n      <td>[gpt-4, single-v1]</td>\n      <td>[التعليمات]\\nيرجى التصرف كقاضي محايد وتقييم جو...</td>\n      <td>الرد من المساعد كان مفصلاً ومنظماً بشكل جيد. و...</td>\n      <td>6.0</td>\n      <td>1</td>\n      <td>1.706790e+09</td>\n    </tr>\n    <tr>\n      <th>5633</th>\n      <td>87</td>\n      <td>noor</td>\n      <td>[gpt-4, single-v1-multi-turn]</td>\n      <td>&lt;|بداية المحادثة بين المساعد A والمستخدم|&gt;\\n\\n...</td>\n      <td>الرد الذي قدمه المساعد الذكي ليس متوافقًا مع ط...</td>\n      <td>2.0</td>\n      <td>2</td>\n      <td>1.706790e+09</td>\n    </tr>\n    <tr>\n      <th>5634</th>\n      <td>83</td>\n      <td>noor</td>\n      <td>[gpt-4, single-v1-multi-turn]</td>\n      <td>&lt;|بداية المحادثة بين المساعد A والمستخدم|&gt;\\n\\n...</td>\n      <td>المساعد الذكي قام بتحويل الإجابة السابقة إلى ق...</td>\n      <td>8.0</td>\n      <td>2</td>\n      <td>1.706790e+09</td>\n    </tr>\n    <tr>\n      <th>5635</th>\n      <td>88</td>\n      <td>noor</td>\n      <td>[gpt-4, single-v1]</td>\n      <td>[التعليمات]\\nيرجى التصرف كقاضي محايد وتقييم جو...</td>\n      <td>الرد من المساعد كان مثيرًا ومبتكرًا ومرتبطًا ب...</td>\n      <td>8.0</td>\n      <td>1</td>\n      <td>1.706790e+09</td>\n    </tr>\n    <tr>\n      <th>5636</th>\n      <td>88</td>\n      <td>noor</td>\n      <td>[gpt-4, single-v1-multi-turn]</td>\n      <td>&lt;|بداية المحادثة بين المساعد A والمستخدم|&gt;\\n\\n...</td>\n      <td>المساعد الذكي قدم ردًا ممتازًا على السؤال الثا...</td>\n      <td>10.0</td>\n      <td>2</td>\n      <td>1.706790e+09</td>\n    </tr>\n    <tr>\n      <th>5637</th>\n      <td>84</td>\n      <td>noor</td>\n      <td>[gpt-4, single-v1]</td>\n      <td>[التعليمات]\\nيرجى التصرف كقاضي محايد وتقييم جو...</td>\n      <td>الرد المقدم من المساعد الذكي غير موجود أو غير ...</td>\n      <td>1.0</td>\n      <td>1</td>\n      <td>1.706790e+09</td>\n    </tr>\n    <tr>\n      <th>5638</th>\n      <td>84</td>\n      <td>noor</td>\n      <td>[gpt-4, single-v1-multi-turn]</td>\n      <td>&lt;|بداية المحادثة بين المساعد A والمستخدم|&gt;\\n\\n...</td>\n      <td>الرد الذي قدمه المساعد الذكي ليس مرضيًا ولا يت...</td>\n      <td>1.0</td>\n      <td>2</td>\n      <td>1.706790e+09</td>\n    </tr>\n    <tr>\n      <th>5639</th>\n      <td>86</td>\n      <td>noor</td>\n      <td>[gpt-4, single-v1]</td>\n      <td>[التعليمات]\\nيرجى التصرف كقاضي محايد وتقييم جو...</td>\n      <td>الرد من المساعد كان ممتازًا ومفصلاً. استخدم ال...</td>\n      <td>10.0</td>\n      <td>1</td>\n      <td>1.706790e+09</td>\n    </tr>\n    <tr>\n      <th>5640</th>\n      <td>81</td>\n      <td>noor</td>\n      <td>[gpt-4, single-v1]</td>\n      <td>[التعليمات]\\nيرجى التصرف كقاضي محايد وتقييم جو...</td>\n      <td>الرد من المساعد كان مفصلاً ومشوقاً، وقد تمكن م...</td>\n      <td>9.0</td>\n      <td>1</td>\n      <td>1.706790e+09</td>\n    </tr>\n    <tr>\n      <th>5641</th>\n      <td>85</td>\n      <td>noor</td>\n      <td>[gpt-4, single-v1-multi-turn]</td>\n      <td>&lt;|بداية المحادثة بين المساعد A والمستخدم|&gt;\\n\\n...</td>\n      <td>المساعد الذكي لم يفهم السؤال بشكل صحيح. المستخ...</td>\n      <td>2.0</td>\n      <td>2</td>\n      <td>1.706790e+09</td>\n    </tr>\n    <tr>\n      <th>5642</th>\n      <td>87</td>\n      <td>noor</td>\n      <td>[gpt-4, single-v1]</td>\n      <td>[التعليمات]\\nيرجى التصرف كقاضي محايد وتقييم جو...</td>\n      <td>الرد من المساعد كان مفصلاً ومبدعاً. القصة التي...</td>\n      <td>8.0</td>\n      <td>1</td>\n      <td>1.706791e+09</td>\n    </tr>\n    <tr>\n      <th>5643</th>\n      <td>82</td>\n      <td>noor</td>\n      <td>[gpt-4, single-v1]</td>\n      <td>[التعليمات]\\nيرجى التصرف كقاضي محايد وتقييم جو...</td>\n      <td>الرد من المساعد كان مفصلاً ومنظماً بشكل جيد. ا...</td>\n      <td>8.0</td>\n      <td>1</td>\n      <td>1.706791e+09</td>\n    </tr>\n    <tr>\n      <th>5644</th>\n      <td>82</td>\n      <td>noor</td>\n      <td>[gpt-4, single-v1-multi-turn]</td>\n      <td>&lt;|بداية المحادثة بين المساعد A والمستخدم|&gt;\\n\\n...</td>\n      <td>المساعد الذكي قدم ردًا غير متوقع على السؤال ال...</td>\n      <td>1.0</td>\n      <td>2</td>\n      <td>1.706791e+09</td>\n    </tr>\n    <tr>\n      <th>5645</th>\n      <td>81</td>\n      <td>noor</td>\n      <td>[gpt-4, single-v1-multi-turn]</td>\n      <td>&lt;|بداية المحادثة بين المساعد A والمستخدم|&gt;\\n\\n...</td>\n      <td>المساعد الذكي قام بإعادة صياغة الرد بنجاح، حيث...</td>\n      <td>9.0</td>\n      <td>2</td>\n      <td>1.706791e+09</td>\n    </tr>\n    <tr>\n      <th>5646</th>\n      <td>86</td>\n      <td>noor</td>\n      <td>[gpt-4, single-v1-multi-turn]</td>\n      <td>&lt;|بداية المحادثة بين المساعد A والمستخدم|&gt;\\n\\n...</td>\n      <td>المساعد الذكي قام بتنفيذ طلب المستخدم بشكل صحي...</td>\n      <td>8.0</td>\n      <td>2</td>\n      <td>1.706791e+09</td>\n    </tr>\n    <tr>\n      <th>5647</th>\n      <td>85</td>\n      <td>noor</td>\n      <td>[gpt-4, single-v1]</td>\n      <td>[التعليمات]\\nيرجى التصرف كقاضي محايد وتقييم جو...</td>\n      <td>الرد من المساعد الذكي كان متماسكًا ومتناسقًا، ...</td>\n      <td>6.0</td>\n      <td>1</td>\n      <td>1.706791e+09</td>\n    </tr>\n    <tr>\n      <th>5648</th>\n      <td>83</td>\n      <td>noor</td>\n      <td>[gpt-4, single-v1]</td>\n      <td>[التعليمات]\\nيرجى التصرف كقاضي محايد وتقييم جو...</td>\n      <td>الرد من المساعد كان مفصلاً ومنظماً بشكل جيد. و...</td>\n      <td>5.0</td>\n      <td>1</td>\n      <td>1.706791e+09</td>\n    </tr>\n    <tr>\n      <th>5649</th>\n      <td>83</td>\n      <td>noor</td>\n      <td>[gpt-4, single-v1-multi-turn]</td>\n      <td>&lt;|بداية المحادثة بين المساعد A والمستخدم|&gt;\\n\\n...</td>\n      <td>المساعد الذكي قام بتحويل الإجابة السابقة إلى ق...</td>\n      <td>9.0</td>\n      <td>2</td>\n      <td>1.706791e+09</td>\n    </tr>\n    <tr>\n      <th>5650</th>\n      <td>87</td>\n      <td>noor</td>\n      <td>[gpt-4, single-v1-multi-turn]</td>\n      <td>&lt;|بداية المحادثة بين المساعد A والمستخدم|&gt;\\n\\n...</td>\n      <td>الرد الذي قدمه المساعد الذكي ليس مرضيًا. المست...</td>\n      <td>2.0</td>\n      <td>2</td>\n      <td>1.706791e+09</td>\n    </tr>\n    <tr>\n      <th>5651</th>\n      <td>88</td>\n      <td>noor</td>\n      <td>[gpt-4, single-v1]</td>\n      <td>[التعليمات]\\nيرجى التصرف كقاضي محايد وتقييم جو...</td>\n      <td>الرد من المساعد كان مثيرًا ومبتكرًا ومرتبطًا ب...</td>\n      <td>9.0</td>\n      <td>1</td>\n      <td>1.706791e+09</td>\n    </tr>\n    <tr>\n      <th>5652</th>\n      <td>88</td>\n      <td>noor</td>\n      <td>[gpt-4, single-v1-multi-turn]</td>\n      <td>&lt;|بداية المحادثة بين المساعد A والمستخدم|&gt;\\n\\n...</td>\n      <td>الرد الذي قدمه المساعد الذكي كان متعمقاً ومفصل...</td>\n      <td>10.0</td>\n      <td>2</td>\n      <td>1.706791e+09</td>\n    </tr>\n    <tr>\n      <th>5653</th>\n      <td>84</td>\n      <td>noor</td>\n      <td>[gpt-4, single-v1]</td>\n      <td>[التعليمات]\\nيرجى التصرف كقاضي محايد وتقييم جو...</td>\n      <td>الرد من المساعد الذكي غير موجود أو غير مرئي في...</td>\n      <td>-1.0</td>\n      <td>1</td>\n      <td>1.706791e+09</td>\n    </tr>\n    <tr>\n      <th>5654</th>\n      <td>84</td>\n      <td>noor</td>\n      <td>[gpt-4, single-v1-multi-turn]</td>\n      <td>&lt;|بداية المحادثة بين المساعد A والمستخدم|&gt;\\n\\n...</td>\n      <td>الرد الذي قدمه المساعد الذكي ليس مرضيًا. المست...</td>\n      <td>2.0</td>\n      <td>2</td>\n      <td>1.706791e+09</td>\n    </tr>\n    <tr>\n      <th>5655</th>\n      <td>86</td>\n      <td>noor</td>\n      <td>[gpt-4, single-v1]</td>\n      <td>[التعليمات]\\nيرجى التصرف كقاضي محايد وتقييم جو...</td>\n      <td>الرد من المساعد كان ممتازًا ومفصلاً. استخدم ال...</td>\n      <td>10.0</td>\n      <td>1</td>\n      <td>1.706791e+09</td>\n    </tr>\n    <tr>\n      <th>5656</th>\n      <td>81</td>\n      <td>noor</td>\n      <td>[gpt-4, single-v1]</td>\n      <td>[التعليمات]\\nيرجى التصرف كقاضي محايد وتقييم جو...</td>\n      <td>الرد من المساعد كان مفصلاً ومشوقاً، وقد تمكن م...</td>\n      <td>9.0</td>\n      <td>1</td>\n      <td>1.706791e+09</td>\n    </tr>\n    <tr>\n      <th>5657</th>\n      <td>85</td>\n      <td>noor</td>\n      <td>[gpt-4, single-v1-multi-turn]</td>\n      <td>&lt;|بداية المحادثة بين المساعد A والمستخدم|&gt;\\n\\n...</td>\n      <td>المساعد الذكي لم يفهم السؤال بشكل صحيح. المستخ...</td>\n      <td>2.0</td>\n      <td>2</td>\n      <td>1.706791e+09</td>\n    </tr>\n  </tbody>\n</table>\n</div>"
     },
     "execution_count": 35,
     "metadata": {},
     "output_type": "execute_result"
    }
   ],
   "source": [
    "df[df.model == 'noor']"
   ],
   "metadata": {
    "collapsed": false,
    "ExecuteTime": {
     "end_time": "2024-02-01T12:47:38.045555748Z",
     "start_time": "2024-02-01T12:47:37.910093998Z"
    }
   },
   "id": "315da63f93a3be6f"
  },
  {
   "cell_type": "markdown",
   "source": [],
   "metadata": {
    "collapsed": false
   },
   "id": "5ddc8a8584775ccc"
  },
  {
   "cell_type": "code",
   "execution_count": 69,
   "outputs": [
    {
     "data": {
      "text/plain": "'يرجى التصرف كقاض محايد وتقييم جودة الردود التي قدمها مساعدي الذكاء الصناعي الاثنين على أسئلة المستخدم. يجب أن تختار المساعد الذي يتبع تعليمات المستخدم ويجيب على أسئلة المستخدم بشكل أفضل. يجب أن تأخذ تقييمك في الاعتبار عوامل مثل المرونة, الصلة, الدقة, العمق, الإبداع, ومستوى التفاصيل في ردودهم. يجب أن تركز على من يقدم   إجابة أفضل على سؤال المستخدم الثاني. ابدأ تقييمك من خلال مقارنة ردود الأساستين وتقديم شرح قصير. تجنب أي تحيزات موقف وتأكد من أن الترتيب الذي تم فيه تقديم الردود لا يؤثر على قرارك. لا تسمح بأن يؤثر طول الردود على تقييمك. لا تفضل أسماء معينة للمساعدين. كن موضوعيا قدر الإمكان. بعد توفير شرحك, قدم حكمك النهائي وذلك بمتابعة هذا النموذج بدقة: \"[[A]]\" إذا كان المساعد A أفضل, \"[[B]]\" إذا كان المساعد B أفضل, و \"[[C]]\" في حالة التعادل.\\n'"
     },
     "execution_count": 69,
     "metadata": {},
     "output_type": "execute_result"
    }
   ],
   "source": [
    "pd.read_json(\"fastchat/llm_judge/data/judge_prompts.jsonl\", lines=True).system_prompt.iloc[1]"
   ],
   "metadata": {
    "collapsed": false,
    "ExecuteTime": {
     "end_time": "2024-02-01T13:38:57.777660077Z",
     "start_time": "2024-02-01T13:38:57.755622229Z"
    }
   },
   "id": "faf49f35f372a0f9"
  },
  {
   "cell_type": "code",
   "execution_count": 70,
   "outputs": [
    {
     "data": {
      "text/plain": "'يرجى التصرف كقاضي محايد وتقييم جودة الإجابات المقدمة من قبل اثنين من مساعدي الذكاء الاصطناعي على أسئلة المستخدم. يجب عليك اختيار المساعد الذي يتبع تعليمات المستخدم ويجيب على أسئلة المستخدم بشكل أفضل. يجب أن يأخذ تقييمك في الاعتبار عوامل مثل مدى فائدة إجاباتهم وملاءمتها ودقتها وعمقها وإبداعها ومستوى تفاصيلها. يجب عليك التركيز على من يقدم إجابة أفضل لسؤال المستخدم الثاني. ابدأ تقييمك بمقارنة إجابات المساعدين وقدم شرحًا موجزًا. تجنب أي تحيز للموقف وتأكد من أن الترتيب الذي تم تقديم الإجابات به لا يؤثر على قرارك. لا تسمح لطول الإجابات بالتأثير على تقييمك. لا تفضل أسماء معينة من المساعدين. كن موضوعيًا قدر الإمكان. بعد تقديم تفسيرك، أصدر حكمك النهائي باتباع هذا التنسيق بدقة: \"[[A]]\" إذا كان المساعد A أفضل، و\"[[B]]\" إذا كان المساعد B أفضل، و\"[[C]]\" إذا كان المساعد A أفضل، و\"[[B]]\" إذا كان المساعد B أفضل، و\"[[C]]\" إذا كان المساعد A أفضل، و\"[[B]]\" إذا كان المساعد B أفضل، و\"[[C]]\" التعادل.'"
     },
     "execution_count": 70,
     "metadata": {},
     "output_type": "execute_result"
    }
   ],
   "source": [
    "pd.read_json(\"fastchat/llm_judge/data/judge_prompts.json\").system_prompt.iloc[1]"
   ],
   "metadata": {
    "collapsed": false,
    "ExecuteTime": {
     "end_time": "2024-02-01T13:39:05.617931054Z",
     "start_time": "2024-02-01T13:39:05.591936829Z"
    }
   },
   "id": "f7cb1d99f63aefc1"
  },
  {
   "cell_type": "code",
   "execution_count": 66,
   "outputs": [
    {
     "data": {
      "text/plain": "                        name      type  \\\n0                    pair-v2  pairwise   \n1         pair-v2-multi-turn  pairwise   \n2               pair-math-v1  pairwise   \n3    pair-math-v1-multi-turn  pairwise   \n4                  single-v1    single   \n5             single-math-v1    single   \n6       single-v1-multi-turn    single   \n7  single-math-v1-multi-turn    single   \n\n                                       system_prompt  \\\n0  يرجى التصرف كقاضي محايد وتقييم جودة الردود الم...   \n1  يرجى التصرف كقاضي محايد وتقييم جودة الإجابات ا...   \n2  يرجى التصرف كقاضي محايد وتقييم جودة الردود الم...   \n3  يرجى التصرف كقاضي محايد وتقييم جودة الإجابات ا...   \n4                                    أنت مساعد مفيد.   \n5                                    أنت مساعد مفيد.   \n6  يرجى التصرف كقاضي محايد وتقييم جودة الرد المقد...   \n7  يرجى التصرف كقاضي محايد وتقييم جودة الرد المقد...   \n\n                                     prompt_template  \\\n0  [سؤال المستخدم]\\n{سؤال}\\n\\n[بداية إجابة المساع...   \n1  <|بدء محادثة المساعد أ مع المستخدم|>\\n\\n### مس...   \n2  [سؤال المستخدم]\\n{سؤال}\\n\\n[بداية الجواب المرج...   \n3  <|بداية الإجابة المرجعية|>\\n\\n### مستخدم:\\n{ال...   \n4  [تعليمات]\\nيرجى التصرف كقاضي محايد وتقييم جودة...   \n5  [تعليمات]\\nيرجى التصرف كقاضي محايد وتقييم جودة...   \n6  <|بدء محادثة المساعد أ مع المستخدم|>\\n\\n### مس...   \n7  <|بداية الإجابة المرجعية|>\\n\\n### مستخدم:\\n{ال...   \n\n                            description category output_format  \n0                   موجه للأسئلة العامة  general         [[A]]  \n1  موجه للأسئلة العامة متعددة المنعطفات  general         [[A]]  \n2                 موجه لأسئلة الرياضيات     math         [[A]]  \n3  موجه للأسئلة العامة متعددة المنعطفات  general         [[A]]  \n4                   موجه للأسئلة العامة  general    [[rating]]  \n5                   موجه للأسئلة العامة     math    [[rating]]  \n6                   موجه للأسئلة العامة  general    [[rating]]  \n7                   موجه للأسئلة العامة     math    [[rating]]  ",
      "text/html": "<div>\n<style scoped>\n    .dataframe tbody tr th:only-of-type {\n        vertical-align: middle;\n    }\n\n    .dataframe tbody tr th {\n        vertical-align: top;\n    }\n\n    .dataframe thead th {\n        text-align: right;\n    }\n</style>\n<table border=\"1\" class=\"dataframe\">\n  <thead>\n    <tr style=\"text-align: right;\">\n      <th></th>\n      <th>name</th>\n      <th>type</th>\n      <th>system_prompt</th>\n      <th>prompt_template</th>\n      <th>description</th>\n      <th>category</th>\n      <th>output_format</th>\n    </tr>\n  </thead>\n  <tbody>\n    <tr>\n      <th>0</th>\n      <td>pair-v2</td>\n      <td>pairwise</td>\n      <td>يرجى التصرف كقاضي محايد وتقييم جودة الردود الم...</td>\n      <td>[سؤال المستخدم]\\n{سؤال}\\n\\n[بداية إجابة المساع...</td>\n      <td>موجه للأسئلة العامة</td>\n      <td>general</td>\n      <td>[[A]]</td>\n    </tr>\n    <tr>\n      <th>1</th>\n      <td>pair-v2-multi-turn</td>\n      <td>pairwise</td>\n      <td>يرجى التصرف كقاضي محايد وتقييم جودة الإجابات ا...</td>\n      <td>&lt;|بدء محادثة المساعد أ مع المستخدم|&gt;\\n\\n### مس...</td>\n      <td>موجه للأسئلة العامة متعددة المنعطفات</td>\n      <td>general</td>\n      <td>[[A]]</td>\n    </tr>\n    <tr>\n      <th>2</th>\n      <td>pair-math-v1</td>\n      <td>pairwise</td>\n      <td>يرجى التصرف كقاضي محايد وتقييم جودة الردود الم...</td>\n      <td>[سؤال المستخدم]\\n{سؤال}\\n\\n[بداية الجواب المرج...</td>\n      <td>موجه لأسئلة الرياضيات</td>\n      <td>math</td>\n      <td>[[A]]</td>\n    </tr>\n    <tr>\n      <th>3</th>\n      <td>pair-math-v1-multi-turn</td>\n      <td>pairwise</td>\n      <td>يرجى التصرف كقاضي محايد وتقييم جودة الإجابات ا...</td>\n      <td>&lt;|بداية الإجابة المرجعية|&gt;\\n\\n### مستخدم:\\n{ال...</td>\n      <td>موجه للأسئلة العامة متعددة المنعطفات</td>\n      <td>general</td>\n      <td>[[A]]</td>\n    </tr>\n    <tr>\n      <th>4</th>\n      <td>single-v1</td>\n      <td>single</td>\n      <td>أنت مساعد مفيد.</td>\n      <td>[تعليمات]\\nيرجى التصرف كقاضي محايد وتقييم جودة...</td>\n      <td>موجه للأسئلة العامة</td>\n      <td>general</td>\n      <td>[[rating]]</td>\n    </tr>\n    <tr>\n      <th>5</th>\n      <td>single-math-v1</td>\n      <td>single</td>\n      <td>أنت مساعد مفيد.</td>\n      <td>[تعليمات]\\nيرجى التصرف كقاضي محايد وتقييم جودة...</td>\n      <td>موجه للأسئلة العامة</td>\n      <td>math</td>\n      <td>[[rating]]</td>\n    </tr>\n    <tr>\n      <th>6</th>\n      <td>single-v1-multi-turn</td>\n      <td>single</td>\n      <td>يرجى التصرف كقاضي محايد وتقييم جودة الرد المقد...</td>\n      <td>&lt;|بدء محادثة المساعد أ مع المستخدم|&gt;\\n\\n### مس...</td>\n      <td>موجه للأسئلة العامة</td>\n      <td>general</td>\n      <td>[[rating]]</td>\n    </tr>\n    <tr>\n      <th>7</th>\n      <td>single-math-v1-multi-turn</td>\n      <td>single</td>\n      <td>يرجى التصرف كقاضي محايد وتقييم جودة الرد المقد...</td>\n      <td>&lt;|بداية الإجابة المرجعية|&gt;\\n\\n### مستخدم:\\n{ال...</td>\n      <td>موجه للأسئلة العامة</td>\n      <td>math</td>\n      <td>[[rating]]</td>\n    </tr>\n  </tbody>\n</table>\n</div>"
     },
     "execution_count": 66,
     "metadata": {},
     "output_type": "execute_result"
    }
   ],
   "source": [
    "pd.read_json(\"fastchat/llm_judge/data/judge_prompts.json\")"
   ],
   "metadata": {
    "collapsed": false,
    "ExecuteTime": {
     "end_time": "2024-02-01T13:36:33.955735272Z",
     "start_time": "2024-02-01T13:36:33.922600723Z"
    }
   },
   "id": "72def6aee3596b44"
  },
  {
   "cell_type": "code",
   "execution_count": 60,
   "outputs": [
    {
     "data": {
      "text/plain": "['يمكنك رؤية منزلًا أحمر جميلًا إلى يسارك ومشيدًا بطراز البيوت المحمية مذهلًا إلى يمينك، ومكانًا ورديًا مشحونًا بالجاذبية منتظم التدفئة في الأمام. إذًا، أين يقع البيت الأبيض؟',\n 'هل تحتوي السؤال الأصلي على أي مؤشرات لتحديد موقع البيت الأبيض بشكل قطعي؟']"
     },
     "execution_count": 60,
     "metadata": {},
     "output_type": "execute_result"
    }
   ],
   "source": [
    "pd.read_json(\"fastchat/llm_judge/data/mt_bench/question.jsonl\", lines=True).iloc[21].turns"
   ],
   "metadata": {
    "collapsed": false,
    "ExecuteTime": {
     "end_time": "2024-02-01T13:32:56.892963356Z",
     "start_time": "2024-02-01T13:32:56.847615181Z"
    }
   },
   "id": "1eab85c04f1d3f18"
  },
  {
   "cell_type": "code",
   "execution_count": 63,
   "outputs": [
    {
     "data": {
      "text/plain": "['يمكنك رؤية منزل أحمر جميل على يسارك ودفيئة منومة على يمينك، ومكان وردي جذاب ومدفأ في المقدمة. إذن، أين البيت الأبيض؟',\n 'هل يحتوي السؤال الأصلي على أي أدلة لتحديد موقع البيت الأبيض بشكل نهائي؟']"
     },
     "execution_count": 63,
     "metadata": {},
     "output_type": "execute_result"
    }
   ],
   "source": [
    "pd.read_json(\"fastchat/llm_judge/data/mt_bench/question.json\").iloc[21].turns"
   ],
   "metadata": {
    "collapsed": false,
    "ExecuteTime": {
     "end_time": "2024-02-01T13:36:02.020063412Z",
     "start_time": "2024-02-01T13:36:01.964808162Z"
    }
   },
   "id": "5352e218a2bf7a10"
  },
  {
   "cell_type": "code",
   "execution_count": 77,
   "outputs": [
    {
     "data": {
      "text/plain": "[{'index': 0,\n  'turns': ['يقع البيت الأبيض في 1600 شارع بنسلفانيا شمال غرب واشنطن العاصمة، وهو المقر الرسمي ومكان عمل رئيس الولايات المتحدة.',\n   'لا، السؤال الأصلي لا يحتوي على أي أدلة لتحديد موقع البيت الأبيض بشكل نهائي. إنه يصف فقط البيت الأحمر، والدفيئة، والمكان الوردي الدافئ، والتي لا علاقة لها بموقع البيت الأبيض.']}]"
     },
     "execution_count": 77,
     "metadata": {},
     "output_type": "execute_result"
    }
   ],
   "source": [
    "pd.read_json(\"fastchat/llm_judge/data/mt_bench/reference_answer/gpt-4.json\")"
   ],
   "metadata": {
    "collapsed": false,
    "ExecuteTime": {
     "end_time": "2024-02-01T13:41:30.577905349Z",
     "start_time": "2024-02-01T13:41:30.557310569Z"
    }
   },
   "id": "7a03cd16e446762f"
  },
  {
   "cell_type": "code",
   "execution_count": 78,
   "outputs": [],
   "source": [
    "df = pd.read_json(\"fastchat/llm_judge/data/mt_bench/question.json\")"
   ],
   "metadata": {
    "collapsed": false,
    "ExecuteTime": {
     "end_time": "2024-02-01T13:43:49.770634486Z",
     "start_time": "2024-02-01T13:43:49.724490267Z"
    }
   },
   "id": "1bdfe8430c05f2d"
  },
  {
   "cell_type": "code",
   "execution_count": 81,
   "outputs": [],
   "source": [
    "df.to_json(\"fastchat/llm_judge/data/mt_bench/question_hamza.jsonl\", lines=True, index=False, orient='records')"
   ],
   "metadata": {
    "collapsed": false,
    "ExecuteTime": {
     "end_time": "2024-02-01T13:45:51.682484493Z",
     "start_time": "2024-02-01T13:45:51.661614558Z"
    }
   },
   "id": "99524c1075c9e27"
  },
  {
   "cell_type": "code",
   "execution_count": 82,
   "outputs": [
    {
     "data": {
      "text/plain": "['يمكنك رؤية منزل أحمر جميل على يسارك ودفيئة منومة على يمينك، ومكان وردي جذاب ومدفأ في المقدمة. إذن، أين البيت الأبيض؟',\n 'هل يحتوي السؤال الأصلي على أي أدلة لتحديد موقع البيت الأبيض بشكل نهائي؟']"
     },
     "execution_count": 82,
     "metadata": {},
     "output_type": "execute_result"
    }
   ],
   "source": [
    "pd.read_json(\"fastchat/llm_judge/data/mt_bench/question_hamza.jsonl\", lines=True).iloc[21].turns\n"
   ],
   "metadata": {
    "collapsed": false,
    "ExecuteTime": {
     "end_time": "2024-02-01T13:46:25.740445014Z",
     "start_time": "2024-02-01T13:46:25.697130542Z"
    }
   },
   "id": "c16fccb9e3c7fce"
  },
  {
   "cell_type": "code",
   "execution_count": 83,
   "outputs": [],
   "source": [
    "df = pd.read_json(\"fastchat/llm_judge/data/mt_bench/reference_answer/gpt-4.json\")\n",
    "df.to_json(\"fastchat/llm_judge/data/mt_bench/reference_answer/gpt-4_hamza.jsonl\", lines=True, index=False, orient='records')"
   ],
   "metadata": {
    "collapsed": false,
    "ExecuteTime": {
     "end_time": "2024-02-01T13:48:16.547140750Z",
     "start_time": "2024-02-01T13:48:16.504225720Z"
    }
   },
   "id": "202d31160f6dde47"
  },
  {
   "cell_type": "code",
   "execution_count": 89,
   "outputs": [
    {
     "data": {
      "text/plain": "[{'index': 0,\n  'turns': ['إذا تجاوزت الشخص الثاني للتو، فإن موقعك الحالي أصبح الآن في المركز الثاني. الشخص الذي تجاوزته للتو هو الآن في المركز الثالث.',\n   'إذا تجاوزت للتو آخر شخص، فهذا يعني أنك كنت في السابق ثاني شخص قبل آخر شخص في السباق. بعد تجاوز آخر شخص، يظل موقعك كما هو، وهو المركز الثاني قبل الأخير. الشخص الذي تجاوزته للتو هو الآن في المركز الأخير.']}]"
     },
     "execution_count": 89,
     "metadata": {},
     "output_type": "execute_result"
    }
   ],
   "source": [
    "df = pd.read_json(\"fastchat/llm_judge/data/mt_bench/reference_answer/gpt-4_hamza.jsonl\", lines=True)\n",
    "df.iloc[0].choices"
   ],
   "metadata": {
    "collapsed": false,
    "ExecuteTime": {
     "end_time": "2024-02-01T13:49:11.558588285Z",
     "start_time": "2024-02-01T13:49:11.539316080Z"
    }
   },
   "id": "d94e4f892760503a"
  }
 ],
 "metadata": {
  "kernelspec": {
   "display_name": "Python 3",
   "language": "python",
   "name": "python3"
  },
  "language_info": {
   "codemirror_mode": {
    "name": "ipython",
    "version": 2
   },
   "file_extension": ".py",
   "mimetype": "text/x-python",
   "name": "python",
   "nbconvert_exporter": "python",
   "pygments_lexer": "ipython2",
   "version": "2.7.6"
  }
 },
 "nbformat": 4,
 "nbformat_minor": 5
}
