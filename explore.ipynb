{
 "cells": [
  {
   "cell_type": "code",
   "execution_count": 4,
   "id": "initial_id",
   "metadata": {
    "collapsed": true,
    "ExecuteTime": {
     "end_time": "2024-02-01T10:50:27.222428468Z",
     "start_time": "2024-02-01T10:50:27.216052929Z"
    }
   },
   "outputs": [],
   "source": [
    "import pandas as pd\n",
    "import os"
   ]
  },
  {
   "cell_type": "code",
   "execution_count": 59,
   "outputs": [],
   "source": [
    "df = pd.read_json(\"fastchat/llm_judge/data/mt_bench/model_judgment/gpt-4_single.jsonl\", lines=True)"
   ],
   "metadata": {
    "collapsed": false,
    "ExecuteTime": {
     "end_time": "2024-01-31T12:14:55.518254840Z",
     "start_time": "2024-01-31T12:14:55.237996452Z"
    }
   },
   "id": "2f8d47c62837ae2e"
  },
  {
   "cell_type": "code",
   "execution_count": 6,
   "outputs": [
    {
     "data": {
      "text/plain": "['alpaca-13b.jsonl',\n 'rwkv-4-raven-14b.jsonl',\n 'wizardlm-30b.jsonl',\n 'palm-2-chat-bison-001.jsonl',\n 'vicuna-33b-v1.3.jsonl',\n 'tulu-30b.jsonl',\n 'noor.jsonl',\n 'chatglm-6b.jsonl',\n 'mpt-30b-chat.jsonl',\n 'guanaco-65b.jsonl',\n 'mpt-7b-chat.jsonl',\n 'gpt-4.jsonl',\n 'falcon-7b-005.jsonl',\n 'llama-13b.jsonl',\n 'wizardlm-13b.jsonl',\n 'dolly-v2-12b.jsonl',\n 'h2ogpt-oasst-open-llama-13b.jsonl',\n 'vicuna-7b-v1.3.jsonl',\n 'nous-hermes-13b.jsonl',\n 'fastchat-t5-3b.jsonl',\n 'gpt4all-13b-snoozy.jsonl',\n 'koala-13b.jsonl',\n 'baize-v2-13b.jsonl',\n 'claude-instant-v1.jsonl',\n 'mpt-30b-instruct.jsonl',\n 'gpt-3.5-turbo.jsonl',\n 'stablelm-tuned-alpha-7b.jsonl',\n 'vicuna-13b-v1.3.jsonl',\n 'oasst-sft-4-pythia-12b.jsonl',\n 'claude-v1.jsonl',\n 'guanaco-33b.jsonl',\n 'oasst-sft-7-llama-30b.jsonl',\n 'falcon-40b-instruct.jsonl']"
     },
     "execution_count": 6,
     "metadata": {},
     "output_type": "execute_result"
    }
   ],
   "source": [
    "os.listdir(\"fastchat/llm_judge/data/mt_bench/model_answer\")"
   ],
   "metadata": {
    "collapsed": false,
    "ExecuteTime": {
     "end_time": "2024-02-01T10:50:36.569916412Z",
     "start_time": "2024-02-01T10:50:36.540488399Z"
    }
   },
   "id": "52117f25d567cb09"
  },
  {
   "cell_type": "code",
   "execution_count": 7,
   "outputs": [],
   "source": [
    "answers = pd.read_json(\"fastchat/llm_judge/data/mt_bench/model_answer/noor.jsonl\", lines=True)"
   ],
   "metadata": {
    "collapsed": false,
    "ExecuteTime": {
     "end_time": "2024-02-01T10:51:13.870800190Z",
     "start_time": "2024-02-01T10:51:13.821999341Z"
    }
   },
   "id": "6604813bf06c6b3d"
  },
  {
   "cell_type": "code",
   "execution_count": 18,
   "outputs": [],
   "source": [
    "qs = pd.read_json(\"fastchat/llm_judge/data/mt_bench/question.jsonl\", lines=True)"
   ],
   "metadata": {
    "collapsed": false,
    "ExecuteTime": {
     "end_time": "2024-02-01T11:02:08.531813198Z",
     "start_time": "2024-02-01T11:02:08.494529764Z"
    }
   },
   "id": "c8ba13887c7b6393"
  },
  {
   "cell_type": "code",
   "execution_count": 19,
   "outputs": [
    {
     "data": {
      "text/plain": "    question_id    category  \\\n0            81     writing   \n1            82     writing   \n2            83     writing   \n3            84     writing   \n4            85     writing   \n..          ...         ...   \n75          156  humanities   \n76          157  humanities   \n77          158  humanities   \n78          159  humanities   \n79          160  humanities   \n\n                                                turns reference  \n0   [أكتب مقالة مشوقة في مدونة السفر حول رحلة حديث...       NaN  \n1   [نص مثالي لرسالة بريد إلكتروني احترافية تطلب ت...       NaN  \n2   [تخيل أنك تكتب مقالًا في المدونة تقارن فيه نمو...       NaN  \n3   [عزيزي (اسم الصديق/الصديقة الخاص بك)\\n\\nأرى أن...       NaN  \n4   [اصف شخصية متميزة ومميزة ، باستخدام صور قوية و...       NaN  \n..                                                ...       ...  \n75  [اشرح ما هو خطأ معدل الأساس واذكر خمسة أمثلة م...       NaN  \n76  [وصف خمسة مبادئ رئيسية في تقييم الحجج في الكتا...       NaN  \n77  [ما هي الأساليب التي استخدمها سقراط لتحدي الأف...       NaN  \n78  [ما هي بعض القواعد البروتوكولية للأعمال عند ال...       NaN  \n79  [اقترح خمسة أفلام وثائقية حائزة على جوائز تحتو...       NaN  \n\n[80 rows x 4 columns]",
      "text/html": "<div>\n<style scoped>\n    .dataframe tbody tr th:only-of-type {\n        vertical-align: middle;\n    }\n\n    .dataframe tbody tr th {\n        vertical-align: top;\n    }\n\n    .dataframe thead th {\n        text-align: right;\n    }\n</style>\n<table border=\"1\" class=\"dataframe\">\n  <thead>\n    <tr style=\"text-align: right;\">\n      <th></th>\n      <th>question_id</th>\n      <th>category</th>\n      <th>turns</th>\n      <th>reference</th>\n    </tr>\n  </thead>\n  <tbody>\n    <tr>\n      <th>0</th>\n      <td>81</td>\n      <td>writing</td>\n      <td>[أكتب مقالة مشوقة في مدونة السفر حول رحلة حديث...</td>\n      <td>NaN</td>\n    </tr>\n    <tr>\n      <th>1</th>\n      <td>82</td>\n      <td>writing</td>\n      <td>[نص مثالي لرسالة بريد إلكتروني احترافية تطلب ت...</td>\n      <td>NaN</td>\n    </tr>\n    <tr>\n      <th>2</th>\n      <td>83</td>\n      <td>writing</td>\n      <td>[تخيل أنك تكتب مقالًا في المدونة تقارن فيه نمو...</td>\n      <td>NaN</td>\n    </tr>\n    <tr>\n      <th>3</th>\n      <td>84</td>\n      <td>writing</td>\n      <td>[عزيزي (اسم الصديق/الصديقة الخاص بك)\\n\\nأرى أن...</td>\n      <td>NaN</td>\n    </tr>\n    <tr>\n      <th>4</th>\n      <td>85</td>\n      <td>writing</td>\n      <td>[اصف شخصية متميزة ومميزة ، باستخدام صور قوية و...</td>\n      <td>NaN</td>\n    </tr>\n    <tr>\n      <th>...</th>\n      <td>...</td>\n      <td>...</td>\n      <td>...</td>\n      <td>...</td>\n    </tr>\n    <tr>\n      <th>75</th>\n      <td>156</td>\n      <td>humanities</td>\n      <td>[اشرح ما هو خطأ معدل الأساس واذكر خمسة أمثلة م...</td>\n      <td>NaN</td>\n    </tr>\n    <tr>\n      <th>76</th>\n      <td>157</td>\n      <td>humanities</td>\n      <td>[وصف خمسة مبادئ رئيسية في تقييم الحجج في الكتا...</td>\n      <td>NaN</td>\n    </tr>\n    <tr>\n      <th>77</th>\n      <td>158</td>\n      <td>humanities</td>\n      <td>[ما هي الأساليب التي استخدمها سقراط لتحدي الأف...</td>\n      <td>NaN</td>\n    </tr>\n    <tr>\n      <th>78</th>\n      <td>159</td>\n      <td>humanities</td>\n      <td>[ما هي بعض القواعد البروتوكولية للأعمال عند ال...</td>\n      <td>NaN</td>\n    </tr>\n    <tr>\n      <th>79</th>\n      <td>160</td>\n      <td>humanities</td>\n      <td>[اقترح خمسة أفلام وثائقية حائزة على جوائز تحتو...</td>\n      <td>NaN</td>\n    </tr>\n  </tbody>\n</table>\n<p>80 rows × 4 columns</p>\n</div>"
     },
     "execution_count": 19,
     "metadata": {},
     "output_type": "execute_result"
    }
   ],
   "source": [
    "qs"
   ],
   "metadata": {
    "collapsed": false,
    "ExecuteTime": {
     "end_time": "2024-02-01T11:02:13.654016256Z",
     "start_time": "2024-02-01T11:02:13.639463542Z"
    }
   },
   "id": "429a0b5d26345dbc"
  },
  {
   "cell_type": "code",
   "execution_count": 27,
   "outputs": [
    {
     "name": "stdout",
     "output_type": "stream",
     "text": [
      "تخيل أنك تكتب مقالًا في المدونة تقارن فيه نموذجي هاتف ذكي شهيرين. اعد للمقال مخططًا يتضمن النقاط الرئيسية والعناوين الفرعية لمقارنة وتباين المزايا والأداء وتجربة المستخدم بفعالية بين النموذجين. (يُرجى توفير إجابة تتكون من أقل من 200 كلمة)\n",
      "\n",
      "مخطط المدونة:\n",
      "\n",
      "1. المقدمة:\n",
      "   - التعريف بالمقال وسرد الهدف منه.\n",
      "\n",
      "2. نظرة عامة على النموذج الأول:\n",
      "   - ذكر ماركة وموديل الهاتف.\n",
      "   - وصف الميزات الرئيسية والتقنيات المستخدمة.\n",
      "   - توضيح أداء الهاتف وقدرته على تلبية احتياجات المستخدم.\n",
      "\n",
      "3. نظرة عامة على النموذج الثاني:\n",
      "   - ذكر ماركة وموديل الهاتف.\n",
      "   - وصف الميزات الرئيسية والتقنيات المستخدمة.\n",
      "   - توضيح أداء الهاتف وقدرته على تلبية احتياجات المستخدم.\n",
      "\n",
      "4. مقارنة المزايا:\n",
      "   - النقاط القوية لكل هاتف مع التركيز على المزايا الفريدة.\n",
      "   - توضيح كيف يتفوق كل نموذج على الآخر في بعض الجوانب.\n",
      "\n",
      "5. مقارنة الأداء:\n",
      "   - مقارنة أداء الهاتفين في عمليات التطبيق المختلفة.\n",
      "   - ذكر قوة الأداء وقدرة الهاتفين على التعامل مع المهام المتعددة.\n",
      "\n",
      "6. تجربة المستخدم:\n",
      "   - تقييم وصف تجربة المستخدم لكل هاتف.\n",
      "   - ذكر سهولة الاستخدام وواجهة المستخدم.\n",
      "\n",
      "7. الخاتمة:\n",
      "   - استنتاج نقاط القوة والضعف لكل هاتف.\n",
      "   - ذكر الهاتف الأنسب لفئة معينة من المستخدمين.\n",
      "\n",
      "8. المراجع:\n",
      "   - ذكر المصادر المستخدمة للبحث والمعلومات المقدمة في المدونة.\n",
      "\n",
      "تحتوي هذه المخطط على بنية سلسة وترتيب منطقي للمدونة، حيث يمكن للقارئ استيعاب المقارنة بسهولة وفهم التفاصيل المقدمة.\n"
     ]
    }
   ],
   "source": [
    "print(qs.turns.iloc[2][0])"
   ],
   "metadata": {
    "collapsed": false,
    "ExecuteTime": {
     "end_time": "2024-02-01T11:10:08.829928110Z",
     "start_time": "2024-02-01T11:10:08.756015415Z"
    }
   },
   "id": "2c03c4f76b80d40"
  },
  {
   "cell_type": "code",
   "execution_count": 28,
   "outputs": [
    {
     "name": "stdout",
     "output_type": "stream",
     "text": [
      "خذ إجابتك السابقة وأعد صياغتها على شكل قصيدة ليمريك.\n"
     ]
    }
   ],
   "source": [
    "print(qs.turns.iloc[2][1])"
   ],
   "metadata": {
    "collapsed": false,
    "ExecuteTime": {
     "end_time": "2024-02-01T11:10:10.671279115Z",
     "start_time": "2024-02-01T11:10:10.659875928Z"
    }
   },
   "id": "d3514fa4c3c46f9"
  },
  {
   "cell_type": "code",
   "execution_count": 23,
   "outputs": [
    {
     "data": {
      "text/plain": "'العنوان: مغامرة لا تنسى: رحلة الى هاواي\\n\\nباعتباري مسافرا متعطشا، فقد حظيت بشرف زيارة مواقع مذهلة في جميع انحاء العالم. ولكن الرحلة التي قمت بها مؤخرا الى هاواي تركت انطباعا لا يمحى علي. من الشواطئ البكر المليئة باشجار النخيل والرمال البيضاء الى الغابات المطيرة المورقة، ومن القرى التقليدية الى الفن الحديث الصاخب، كانت هذه الرحلة بمثابة حلم اصبح حقيقة.\\n\\nعند وصولي، اذهلني الجمال الطبيعي الاخاذ الذي يحيط بي. كانت الشواطئ، باشجار النخيل الشاهقة التي تتمايل بلطف مع النسيم وابراج المراقبة العديدة، بمثابة خلفية مثالية للمغامرات التي كانت تنتظرني.\\n\\nبالنسبة لرحلتنا الثقافية، كان احد المعالم البارزة هو جولة في متحف بيرل هاربور التذكاري. وبينما كنت اسير في القاعات المليئة بالقطع الاثرية والمخطوطات والخرائط، شعرت باحساس غامر بالرهبة والتاثر بحكايات الشجاعة والتضحية خلال واحدة من اكثر اللحظات الحاسمة في تاريخ امتنا.\\n\\nوبالاستمرار في استكشافنا، تجولنا في شوارع مدينة هونولولو الصاخبة، حيث كان الباعة المتج'"
     },
     "execution_count": 23,
     "metadata": {},
     "output_type": "execute_result"
    }
   ],
   "source": [
    "answers.choices.iloc[0][0]['turns'][0]"
   ],
   "metadata": {
    "collapsed": false,
    "ExecuteTime": {
     "end_time": "2024-02-01T11:06:59.355204331Z",
     "start_time": "2024-02-01T11:06:59.271698007Z"
    }
   },
   "id": "287ba8462a3d670b"
  }
 ],
 "metadata": {
  "kernelspec": {
   "display_name": "Python 3",
   "language": "python",
   "name": "python3"
  },
  "language_info": {
   "codemirror_mode": {
    "name": "ipython",
    "version": 2
   },
   "file_extension": ".py",
   "mimetype": "text/x-python",
   "name": "python",
   "nbconvert_exporter": "python",
   "pygments_lexer": "ipython2",
   "version": "2.7.6"
  }
 },
 "nbformat": 4,
 "nbformat_minor": 5
}
