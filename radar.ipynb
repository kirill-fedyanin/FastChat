{
 "cells": [
  {
   "cell_type": "code",
   "execution_count": 1,
   "id": "initial_id",
   "metadata": {
    "collapsed": true,
    "ExecuteTime": {
     "end_time": "2024-02-19T06:46:34.279106071Z",
     "start_time": "2024-02-19T06:46:33.951397529Z"
    }
   },
   "outputs": [],
   "source": [
    "import json\n",
    "import pandas as pd\n",
    "import plotly.express as px\n",
    "import plotly.graph_objects as go\n",
    "\n",
    "\n",
    "CATEGORIES = [\"Writing\", \"Roleplay\", \"Reasoning\", \"Math\", \"Coding\", \"Extraction\", \"STEM\", \"Humanities\"]\n",
    "bench ='vicuna' # 'vicuna' or 'mt'\n",
    "\n",
    "\n",
    "def get_model_df():\n",
    "    cnt = 0\n",
    "    q2result = []\n",
    "    fin = open(f\"fastchat/llm_judge/data/{bench}_bench/model_judgment/gpt-4_single.jsonl\", \"r\")\n",
    "    for line in fin:\n",
    "        obj = json.loads(line)\n",
    "        obj[\"category\"] = CATEGORIES[(obj[\"question_id\"]-81)//10]\n",
    "        q2result.append(obj)\n",
    "    df = pd.DataFrame(q2result)\n",
    "    return df\n",
    "\n",
    "def toggle(res_str):\n",
    "    if res_str == \"win\":\n",
    "        return \"loss\"\n",
    "    elif res_str == \"loss\":\n",
    "        return \"win\"\n",
    "    return \"tie\"\n",
    "\n",
    "def get_model_df_pair():\n",
    "    fin = open(\"gpt-4_pair.jsonl\", \"r\")\n",
    "    cnt = 0\n",
    "    q2result = []\n",
    "    for line in fin:\n",
    "        obj = json.loads(line)\n",
    "\n",
    "        result = {}\n",
    "        result[\"qid\"] = str(obj[\"question_id\"])\n",
    "        result[\"turn\"] = str(obj[\"turn\"])\n",
    "        if obj[\"g1_winner\"] == \"model_1\" and obj[\"g2_winner\"] == \"model_1\":\n",
    "            result[\"result\"] = \"win\"\n",
    "        elif obj[\"g1_winner\"] == \"model_2\" and obj[\"g2_winner\"] == \"model_2\":\n",
    "            result[\"result\"] = \"loss\"\n",
    "        else:\n",
    "            result[\"result\"] = \"tie\"\n",
    "        result[\"category\"] = CATEGORIES[(obj[\"question_id\"]-81)//10]\n",
    "        result[\"model\"] = obj[\"model_1\"]\n",
    "        q2result.append(result)\n",
    "\n",
    "    df = pd.DataFrame(q2result)\n",
    "\n",
    "    return df\n",
    "\n",
    "df = get_model_df()\n",
    "# df_pair = get_model_df_pair()"
   ]
  },
  {
   "cell_type": "code",
   "execution_count": 2,
   "outputs": [
    {
     "data": {
      "text/plain": "['data',\n 'modules',\n 'protocol',\n 'constants.py',\n 'utils.py',\n 'train',\n 'serve',\n 'conversation.py',\n 'model',\n 'llm_judge',\n '__pycache__',\n '__init__.py']"
     },
     "execution_count": 2,
     "metadata": {},
     "output_type": "execute_result"
    }
   ],
   "source": [
    "import os\n",
    "os.listdir(\"fastchat/\")"
   ],
   "metadata": {
    "collapsed": false,
    "ExecuteTime": {
     "end_time": "2024-02-19T06:46:34.280363141Z",
     "start_time": "2024-02-19T06:46:34.274536219Z"
    }
   },
   "id": "65e153c3028ca3a2"
  },
  {
   "cell_type": "code",
   "execution_count": 3,
   "outputs": [
    {
     "name": "stdout",
     "output_type": "stream",
     "text": [
      "['noor-chat-mix-new' 'acegpt-13b' 'noor-chat-mix' 'jais-30b' 'noor-005'\n",
      " 'noor-014' 'jais-13b' 'acegpt-7b']\n"
     ]
    }
   ],
   "source": [
    "all_models = df[\"model\"].unique()\n",
    "print(all_models)\n",
    "scores_all = []\n",
    "for model in all_models:\n",
    "    for cat in CATEGORIES:\n",
    "        # filter category/model, and score format error (<1% case)\n",
    "        res = df[(df[\"category\"]==cat) & (df[\"model\"]==model) & (df[\"score\"] >= 0)]\n",
    "        score = res[\"score\"].mean()\n",
    "\n",
    "        # # pairwise result\n",
    "        # res_pair = df_pair[(df_pair[\"category\"]==cat) & (df_pair[\"model\"]==model)][\"result\"].value_counts()\n",
    "        # wincnt = res_pair[\"win\"] if \"win\" in res_pair.index else 0\n",
    "        # tiecnt = res_pair[\"tie\"] if \"tie\" in res_pair.index else 0\n",
    "        # winrate = wincnt/res_pair.sum()\n",
    "        # winrate_adjusted = (wincnt + tiecnt)/res_pair.sum()\n",
    "        # # print(winrate_adjusted)\n",
    "\n",
    "        # scores_all.append({\"model\": model, \"category\": cat, \"score\": score, \"winrate\": winrate, \"wtrate\": winrate_adjusted})\n",
    "        scores_all.append({\"model\": model, \"category\": cat, \"score\": score})"
   ],
   "metadata": {
    "collapsed": false,
    "ExecuteTime": {
     "end_time": "2024-02-19T06:46:34.337832272Z",
     "start_time": "2024-02-19T06:46:34.275251231Z"
    }
   },
   "id": "2b7574751f85dc64"
  },
  {
   "cell_type": "code",
   "execution_count": null,
   "outputs": [],
   "source": [
    "#target_models = [\"Llama-2-7b-chat\", \"Llama-2-13b-chat\", \"Llama-2-70b-chat\", \"gpt-3.5-turbo\", \"claude-v1\", \"gpt-4\"]\n",
    "\n",
    "#target_models = ['noor-005', 'noor-006', 'noor-chat-mix', 'noor-chat', 'noor-pretrained']\n",
    "# target_models = ['noor-005', 'noor-006', 'noor-chat-mix', 'noor-chat', 'noor-pretrained']\n",
    "# target_models = ['noor-005', 'noor-chat-mix', 'noor-014', 'noor-chat-mix','jais-30b', 'acegpt-13b', 'jais-13b', 'acegpt-7b']\n",
    "#target_models = ['noor-005', 'noor-chat-mix', 'noor-014', 'noor-chat-mix-new']\n",
    "target_models = ['noor-005', 'jais-30b', 'acegpt-13b']\n",
    "\n",
    "\n",
    "scores_target = [scores_all[i] for i in range(len(scores_all)) if scores_all[i][\"model\"] in target_models]\n",
    "\n",
    "# sort by target_models\n",
    "scores_target = sorted(scores_target, key=lambda x: target_models.index(x[\"model\"]), reverse=True)\n",
    "\n",
    "df_score = pd.DataFrame(scores_target)\n",
    "df_score = df_score[df_score[\"model\"].isin(target_models)]\n",
    "\n",
    "# rename_map = {name: name for name in target_models}\n",
    "# \n",
    "# rename_map = {\"llama-13b\": \"LLaMA-13B\",\n",
    "#               \"alpaca-13b\": \"Alpaca-13B\",\n",
    "#               \"vicuna-33b-v1.3\": \"Vicuna-33B\",\n",
    "#               \"vicuna-13b-v1.3\": \"Vicuna-13B\",\n",
    "#               \"gpt-3.5-turbo\": \"GPT-3.5-turbo\",\n",
    "#               \"claude-v1\": \"Claude-v1\",\n",
    "#               \"gpt-4\": \"GPT-4\"}\n",
    "\n",
    "rename_map = {\n",
    "    \"jais-30b\": \"Jais 30b\",\n",
    "    \"jais-13b\": \"Jais 13b\",\n",
    "    \"noor-005\": \"Noor 005, DPO 1 epoch\",\n",
    "    \"noor-006\": \"Noor 006, DPO 2 epochs\",\n",
    "    \"noor-chat-mix\": \"Noor Chat Mix\",\n",
    "    \"noor-chat-mix-new\": \"Noor Chat Mix New\",\n",
    "    \"noor-chat\": \"Noor Chat\",\n",
    "    \"noor-pretrained\": \"Noor Pretrained\",\n",
    "    \"noor-012\": \"Noor 012 Code\",\n",
    "    \"noor-014\": \"Noor 014, DPO on new chat\",\n",
    "    'acegpt-13b': \"AceGPT-13b\",\n",
    "}\n",
    "\n",
    "for k, v in rename_map.items():\n",
    "    df_score.replace(k, v, inplace=True)\n",
    "\n",
    "fig = px.line_polar(df_score, r = 'score', theta = 'category', line_close = True, category_orders = {\"category\": CATEGORIES},\n",
    "                    color = 'model', markers=True, color_discrete_sequence=px.colors.qualitative.Pastel, height=800)\n",
    "\n",
    "fig.show()\n",
    "fig.write_image('radar_4.png', scale=2)"
   ],
   "metadata": {
    "collapsed": false,
    "is_executing": true
   },
   "id": "6b7b0ad21d3ed057"
  },
  {
   "cell_type": "code",
   "execution_count": 4,
   "outputs": [],
   "source": [],
   "metadata": {
    "collapsed": false,
    "ExecuteTime": {
     "end_time": "2024-02-19T06:46:41.507708809Z",
     "start_time": "2024-02-19T06:46:41.472657604Z"
    }
   },
   "id": "a04e2c702e72f3c5"
  }
 ],
 "metadata": {
  "kernelspec": {
   "display_name": "Python 3",
   "language": "python",
   "name": "python3"
  },
  "language_info": {
   "codemirror_mode": {
    "name": "ipython",
    "version": 2
   },
   "file_extension": ".py",
   "mimetype": "text/x-python",
   "name": "python",
   "nbconvert_exporter": "python",
   "pygments_lexer": "ipython2",
   "version": "2.7.6"
  }
 },
 "nbformat": 4,
 "nbformat_minor": 5
}
